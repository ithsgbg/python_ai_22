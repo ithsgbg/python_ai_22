{
 "cells": [
  {
   "cell_type": "code",
   "execution_count": 1,
   "metadata": {},
   "outputs": [],
   "source": [
    "import pandas as pd\n",
    "\n",
    "df = pd.read_csv('sales_data.csv')"
   ]
  },
  {
   "cell_type": "code",
   "execution_count": 2,
   "metadata": {},
   "outputs": [
    {
     "data": {
      "text/html": [
       "<div>\n",
       "<style scoped>\n",
       "    .dataframe tbody tr th:only-of-type {\n",
       "        vertical-align: middle;\n",
       "    }\n",
       "\n",
       "    .dataframe tbody tr th {\n",
       "        vertical-align: top;\n",
       "    }\n",
       "\n",
       "    .dataframe thead th {\n",
       "        text-align: right;\n",
       "    }\n",
       "</style>\n",
       "<table border=\"1\" class=\"dataframe\">\n",
       "  <thead>\n",
       "    <tr style=\"text-align: right;\">\n",
       "      <th></th>\n",
       "      <th>date</th>\n",
       "      <th>store</th>\n",
       "      <th>item</th>\n",
       "      <th>sales</th>\n",
       "    </tr>\n",
       "  </thead>\n",
       "  <tbody>\n",
       "    <tr>\n",
       "      <th>0</th>\n",
       "      <td>2013-01-01</td>\n",
       "      <td>1</td>\n",
       "      <td>1</td>\n",
       "      <td>13</td>\n",
       "    </tr>\n",
       "    <tr>\n",
       "      <th>1</th>\n",
       "      <td>2013-01-02</td>\n",
       "      <td>1</td>\n",
       "      <td>1</td>\n",
       "      <td>11</td>\n",
       "    </tr>\n",
       "    <tr>\n",
       "      <th>2</th>\n",
       "      <td>2013-01-03</td>\n",
       "      <td>1</td>\n",
       "      <td>1</td>\n",
       "      <td>14</td>\n",
       "    </tr>\n",
       "    <tr>\n",
       "      <th>3</th>\n",
       "      <td>2013-01-04</td>\n",
       "      <td>1</td>\n",
       "      <td>1</td>\n",
       "      <td>13</td>\n",
       "    </tr>\n",
       "    <tr>\n",
       "      <th>4</th>\n",
       "      <td>2013-01-05</td>\n",
       "      <td>1</td>\n",
       "      <td>1</td>\n",
       "      <td>10</td>\n",
       "    </tr>\n",
       "  </tbody>\n",
       "</table>\n",
       "</div>"
      ],
      "text/plain": [
       "         date  store  item  sales\n",
       "0  2013-01-01      1     1     13\n",
       "1  2013-01-02      1     1     11\n",
       "2  2013-01-03      1     1     14\n",
       "3  2013-01-04      1     1     13\n",
       "4  2013-01-05      1     1     10"
      ]
     },
     "execution_count": 2,
     "metadata": {},
     "output_type": "execute_result"
    }
   ],
   "source": [
    "df.head()"
   ]
  },
  {
   "cell_type": "code",
   "execution_count": 3,
   "metadata": {},
   "outputs": [
    {
     "data": {
      "text/plain": [
       "(913000, 4)"
      ]
     },
     "execution_count": 3,
     "metadata": {},
     "output_type": "execute_result"
    }
   ],
   "source": [
    "df.shape"
   ]
  },
  {
   "cell_type": "code",
   "execution_count": 4,
   "metadata": {},
   "outputs": [
    {
     "data": {
      "text/plain": [
       "date     object\n",
       "store     int64\n",
       "item      int64\n",
       "sales     int64\n",
       "dtype: object"
      ]
     },
     "execution_count": 4,
     "metadata": {},
     "output_type": "execute_result"
    }
   ],
   "source": [
    "df.dtypes"
   ]
  },
  {
   "cell_type": "code",
   "execution_count": 5,
   "metadata": {},
   "outputs": [],
   "source": [
    "df.date = pd.to_datetime(df.date)"
   ]
  },
  {
   "cell_type": "code",
   "execution_count": 6,
   "metadata": {},
   "outputs": [
    {
     "data": {
      "text/plain": [
       "date     datetime64[ns]\n",
       "store             int64\n",
       "item              int64\n",
       "sales             int64\n",
       "dtype: object"
      ]
     },
     "execution_count": 6,
     "metadata": {},
     "output_type": "execute_result"
    }
   ],
   "source": [
    "df.dtypes"
   ]
  },
  {
   "cell_type": "code",
   "execution_count": 7,
   "metadata": {},
   "outputs": [
    {
     "data": {
      "text/html": [
       "<div>\n",
       "<style scoped>\n",
       "    .dataframe tbody tr th:only-of-type {\n",
       "        vertical-align: middle;\n",
       "    }\n",
       "\n",
       "    .dataframe tbody tr th {\n",
       "        vertical-align: top;\n",
       "    }\n",
       "\n",
       "    .dataframe thead th {\n",
       "        text-align: right;\n",
       "    }\n",
       "</style>\n",
       "<table border=\"1\" class=\"dataframe\">\n",
       "  <thead>\n",
       "    <tr style=\"text-align: right;\">\n",
       "      <th></th>\n",
       "      <th>date</th>\n",
       "      <th>store</th>\n",
       "      <th>item</th>\n",
       "      <th>sales</th>\n",
       "    </tr>\n",
       "  </thead>\n",
       "  <tbody>\n",
       "    <tr>\n",
       "      <th>0</th>\n",
       "      <td>2013-01-01</td>\n",
       "      <td>1</td>\n",
       "      <td>1</td>\n",
       "      <td>13</td>\n",
       "    </tr>\n",
       "    <tr>\n",
       "      <th>1</th>\n",
       "      <td>2013-01-02</td>\n",
       "      <td>1</td>\n",
       "      <td>1</td>\n",
       "      <td>11</td>\n",
       "    </tr>\n",
       "    <tr>\n",
       "      <th>2</th>\n",
       "      <td>2013-01-03</td>\n",
       "      <td>1</td>\n",
       "      <td>1</td>\n",
       "      <td>14</td>\n",
       "    </tr>\n",
       "    <tr>\n",
       "      <th>3</th>\n",
       "      <td>2013-01-04</td>\n",
       "      <td>1</td>\n",
       "      <td>1</td>\n",
       "      <td>13</td>\n",
       "    </tr>\n",
       "    <tr>\n",
       "      <th>4</th>\n",
       "      <td>2013-01-05</td>\n",
       "      <td>1</td>\n",
       "      <td>1</td>\n",
       "      <td>10</td>\n",
       "    </tr>\n",
       "  </tbody>\n",
       "</table>\n",
       "</div>"
      ],
      "text/plain": [
       "        date  store  item  sales\n",
       "0 2013-01-01      1     1     13\n",
       "1 2013-01-02      1     1     11\n",
       "2 2013-01-03      1     1     14\n",
       "3 2013-01-04      1     1     13\n",
       "4 2013-01-05      1     1     10"
      ]
     },
     "execution_count": 7,
     "metadata": {},
     "output_type": "execute_result"
    }
   ],
   "source": [
    "df.head()"
   ]
  },
  {
   "cell_type": "code",
   "execution_count": 8,
   "metadata": {},
   "outputs": [],
   "source": [
    "df = df.sample(n=89_000, random_state=0)"
   ]
  },
  {
   "cell_type": "code",
   "execution_count": 9,
   "metadata": {},
   "outputs": [
    {
     "data": {
      "text/plain": [
       "(89000, 4)"
      ]
     },
     "execution_count": 9,
     "metadata": {},
     "output_type": "execute_result"
    }
   ],
   "source": [
    "df.shape"
   ]
  },
  {
   "cell_type": "code",
   "execution_count": 10,
   "metadata": {},
   "outputs": [
    {
     "data": {
      "text/html": [
       "<div>\n",
       "<style scoped>\n",
       "    .dataframe tbody tr th:only-of-type {\n",
       "        vertical-align: middle;\n",
       "    }\n",
       "\n",
       "    .dataframe tbody tr th {\n",
       "        vertical-align: top;\n",
       "    }\n",
       "\n",
       "    .dataframe thead th {\n",
       "        text-align: right;\n",
       "    }\n",
       "</style>\n",
       "<table border=\"1\" class=\"dataframe\">\n",
       "  <thead>\n",
       "    <tr style=\"text-align: right;\">\n",
       "      <th></th>\n",
       "      <th>date</th>\n",
       "      <th>store</th>\n",
       "      <th>item</th>\n",
       "      <th>sales</th>\n",
       "    </tr>\n",
       "  </thead>\n",
       "  <tbody>\n",
       "    <tr>\n",
       "      <th>335813</th>\n",
       "      <td>2017-07-14</td>\n",
       "      <td>4</td>\n",
       "      <td>19</td>\n",
       "      <td>56</td>\n",
       "    </tr>\n",
       "    <tr>\n",
       "      <th>630838</th>\n",
       "      <td>2015-05-19</td>\n",
       "      <td>6</td>\n",
       "      <td>35</td>\n",
       "      <td>45</td>\n",
       "    </tr>\n",
       "    <tr>\n",
       "      <th>365685</th>\n",
       "      <td>2014-05-01</td>\n",
       "      <td>1</td>\n",
       "      <td>21</td>\n",
       "      <td>48</td>\n",
       "    </tr>\n",
       "    <tr>\n",
       "      <th>322781</th>\n",
       "      <td>2016-11-06</td>\n",
       "      <td>7</td>\n",
       "      <td>18</td>\n",
       "      <td>85</td>\n",
       "    </tr>\n",
       "    <tr>\n",
       "      <th>151590</th>\n",
       "      <td>2013-02-02</td>\n",
       "      <td>4</td>\n",
       "      <td>9</td>\n",
       "      <td>46</td>\n",
       "    </tr>\n",
       "  </tbody>\n",
       "</table>\n",
       "</div>"
      ],
      "text/plain": [
       "             date  store  item  sales\n",
       "335813 2017-07-14      4    19     56\n",
       "630838 2015-05-19      6    35     45\n",
       "365685 2014-05-01      1    21     48\n",
       "322781 2016-11-06      7    18     85\n",
       "151590 2013-02-02      4     9     46"
      ]
     },
     "execution_count": 10,
     "metadata": {},
     "output_type": "execute_result"
    }
   ],
   "source": [
    "df.head()"
   ]
  },
  {
   "cell_type": "code",
   "execution_count": 11,
   "metadata": {},
   "outputs": [],
   "source": [
    "df.sort_values('date', inplace=True)"
   ]
  },
  {
   "cell_type": "code",
   "execution_count": 12,
   "metadata": {},
   "outputs": [
    {
     "data": {
      "text/html": [
       "<div>\n",
       "<style scoped>\n",
       "    .dataframe tbody tr th:only-of-type {\n",
       "        vertical-align: middle;\n",
       "    }\n",
       "\n",
       "    .dataframe tbody tr th {\n",
       "        vertical-align: top;\n",
       "    }\n",
       "\n",
       "    .dataframe thead th {\n",
       "        text-align: right;\n",
       "    }\n",
       "</style>\n",
       "<table border=\"1\" class=\"dataframe\">\n",
       "  <thead>\n",
       "    <tr style=\"text-align: right;\">\n",
       "      <th></th>\n",
       "      <th>date</th>\n",
       "      <th>store</th>\n",
       "      <th>item</th>\n",
       "      <th>sales</th>\n",
       "    </tr>\n",
       "  </thead>\n",
       "  <tbody>\n",
       "    <tr>\n",
       "      <th>83996</th>\n",
       "      <td>2013-01-01</td>\n",
       "      <td>7</td>\n",
       "      <td>5</td>\n",
       "      <td>5</td>\n",
       "    </tr>\n",
       "    <tr>\n",
       "      <th>381634</th>\n",
       "      <td>2013-01-01</td>\n",
       "      <td>10</td>\n",
       "      <td>21</td>\n",
       "      <td>33</td>\n",
       "    </tr>\n",
       "    <tr>\n",
       "      <th>377982</th>\n",
       "      <td>2013-01-01</td>\n",
       "      <td>8</td>\n",
       "      <td>21</td>\n",
       "      <td>21</td>\n",
       "    </tr>\n",
       "    <tr>\n",
       "      <th>368852</th>\n",
       "      <td>2013-01-01</td>\n",
       "      <td>3</td>\n",
       "      <td>21</td>\n",
       "      <td>25</td>\n",
       "    </tr>\n",
       "    <tr>\n",
       "      <th>668316</th>\n",
       "      <td>2013-01-01</td>\n",
       "      <td>7</td>\n",
       "      <td>37</td>\n",
       "      <td>11</td>\n",
       "    </tr>\n",
       "  </tbody>\n",
       "</table>\n",
       "</div>"
      ],
      "text/plain": [
       "             date  store  item  sales\n",
       "83996  2013-01-01      7     5      5\n",
       "381634 2013-01-01     10    21     33\n",
       "377982 2013-01-01      8    21     21\n",
       "368852 2013-01-01      3    21     25\n",
       "668316 2013-01-01      7    37     11"
      ]
     },
     "execution_count": 12,
     "metadata": {},
     "output_type": "execute_result"
    }
   ],
   "source": [
    "df.head()"
   ]
  },
  {
   "cell_type": "code",
   "execution_count": 13,
   "metadata": {},
   "outputs": [],
   "source": [
    "df.reset_index(inplace=True, drop=True)"
   ]
  },
  {
   "cell_type": "code",
   "execution_count": 14,
   "metadata": {},
   "outputs": [
    {
     "data": {
      "text/html": [
       "<div>\n",
       "<style scoped>\n",
       "    .dataframe tbody tr th:only-of-type {\n",
       "        vertical-align: middle;\n",
       "    }\n",
       "\n",
       "    .dataframe tbody tr th {\n",
       "        vertical-align: top;\n",
       "    }\n",
       "\n",
       "    .dataframe thead th {\n",
       "        text-align: right;\n",
       "    }\n",
       "</style>\n",
       "<table border=\"1\" class=\"dataframe\">\n",
       "  <thead>\n",
       "    <tr style=\"text-align: right;\">\n",
       "      <th></th>\n",
       "      <th>date</th>\n",
       "      <th>store</th>\n",
       "      <th>item</th>\n",
       "      <th>sales</th>\n",
       "    </tr>\n",
       "  </thead>\n",
       "  <tbody>\n",
       "    <tr>\n",
       "      <th>0</th>\n",
       "      <td>2013-01-01</td>\n",
       "      <td>7</td>\n",
       "      <td>5</td>\n",
       "      <td>5</td>\n",
       "    </tr>\n",
       "    <tr>\n",
       "      <th>1</th>\n",
       "      <td>2013-01-01</td>\n",
       "      <td>10</td>\n",
       "      <td>21</td>\n",
       "      <td>33</td>\n",
       "    </tr>\n",
       "    <tr>\n",
       "      <th>2</th>\n",
       "      <td>2013-01-01</td>\n",
       "      <td>8</td>\n",
       "      <td>21</td>\n",
       "      <td>21</td>\n",
       "    </tr>\n",
       "    <tr>\n",
       "      <th>3</th>\n",
       "      <td>2013-01-01</td>\n",
       "      <td>3</td>\n",
       "      <td>21</td>\n",
       "      <td>25</td>\n",
       "    </tr>\n",
       "    <tr>\n",
       "      <th>4</th>\n",
       "      <td>2013-01-01</td>\n",
       "      <td>7</td>\n",
       "      <td>37</td>\n",
       "      <td>11</td>\n",
       "    </tr>\n",
       "  </tbody>\n",
       "</table>\n",
       "</div>"
      ],
      "text/plain": [
       "        date  store  item  sales\n",
       "0 2013-01-01      7     5      5\n",
       "1 2013-01-01     10    21     33\n",
       "2 2013-01-01      8    21     21\n",
       "3 2013-01-01      3    21     25\n",
       "4 2013-01-01      7    37     11"
      ]
     },
     "execution_count": 14,
     "metadata": {},
     "output_type": "execute_result"
    }
   ],
   "source": [
    "df.head()"
   ]
  },
  {
   "attachments": {},
   "cell_type": "markdown",
   "metadata": {},
   "source": [
    "## Split data into trianing and testing "
   ]
  },
  {
   "cell_type": "code",
   "execution_count": 15,
   "metadata": {},
   "outputs": [],
   "source": [
    "train = df[df.date < '2017-01-01']\n",
    "test = df[df.date >= '2017-01-01']"
   ]
  },
  {
   "cell_type": "code",
   "execution_count": 16,
   "metadata": {},
   "outputs": [
    {
     "data": {
      "text/plain": [
       "(71051, 4)"
      ]
     },
     "execution_count": 16,
     "metadata": {},
     "output_type": "execute_result"
    }
   ],
   "source": [
    "train.shape"
   ]
  },
  {
   "cell_type": "code",
   "execution_count": 17,
   "metadata": {},
   "outputs": [
    {
     "data": {
      "text/plain": [
       "(17949, 4)"
      ]
     },
     "execution_count": 17,
     "metadata": {},
     "output_type": "execute_result"
    }
   ],
   "source": [
    "test.shape"
   ]
  },
  {
   "cell_type": "code",
   "execution_count": 18,
   "metadata": {},
   "outputs": [],
   "source": [
    "train_features = train.drop(columns=['sales'])\n",
    "train_target = train.sales\n",
    "test_features = test.drop(columns=['sales'])\n",
    "test_target = test.sales"
   ]
  },
  {
   "cell_type": "code",
   "execution_count": 19,
   "metadata": {},
   "outputs": [
    {
     "data": {
      "text/html": [
       "<div>\n",
       "<style scoped>\n",
       "    .dataframe tbody tr th:only-of-type {\n",
       "        vertical-align: middle;\n",
       "    }\n",
       "\n",
       "    .dataframe tbody tr th {\n",
       "        vertical-align: top;\n",
       "    }\n",
       "\n",
       "    .dataframe thead th {\n",
       "        text-align: right;\n",
       "    }\n",
       "</style>\n",
       "<table border=\"1\" class=\"dataframe\">\n",
       "  <thead>\n",
       "    <tr style=\"text-align: right;\">\n",
       "      <th></th>\n",
       "      <th>date</th>\n",
       "      <th>store</th>\n",
       "      <th>item</th>\n",
       "    </tr>\n",
       "  </thead>\n",
       "  <tbody>\n",
       "    <tr>\n",
       "      <th>0</th>\n",
       "      <td>2013-01-01</td>\n",
       "      <td>7</td>\n",
       "      <td>5</td>\n",
       "    </tr>\n",
       "    <tr>\n",
       "      <th>1</th>\n",
       "      <td>2013-01-01</td>\n",
       "      <td>10</td>\n",
       "      <td>21</td>\n",
       "    </tr>\n",
       "    <tr>\n",
       "      <th>2</th>\n",
       "      <td>2013-01-01</td>\n",
       "      <td>8</td>\n",
       "      <td>21</td>\n",
       "    </tr>\n",
       "    <tr>\n",
       "      <th>3</th>\n",
       "      <td>2013-01-01</td>\n",
       "      <td>3</td>\n",
       "      <td>21</td>\n",
       "    </tr>\n",
       "    <tr>\n",
       "      <th>4</th>\n",
       "      <td>2013-01-01</td>\n",
       "      <td>7</td>\n",
       "      <td>37</td>\n",
       "    </tr>\n",
       "  </tbody>\n",
       "</table>\n",
       "</div>"
      ],
      "text/plain": [
       "        date  store  item\n",
       "0 2013-01-01      7     5\n",
       "1 2013-01-01     10    21\n",
       "2 2013-01-01      8    21\n",
       "3 2013-01-01      3    21\n",
       "4 2013-01-01      7    37"
      ]
     },
     "execution_count": 19,
     "metadata": {},
     "output_type": "execute_result"
    }
   ],
   "source": [
    "train_features.head()"
   ]
  },
  {
   "cell_type": "code",
   "execution_count": 20,
   "metadata": {},
   "outputs": [
    {
     "data": {
      "text/plain": [
       "0     5\n",
       "1    33\n",
       "2    21\n",
       "3    25\n",
       "4    11\n",
       "Name: sales, dtype: int64"
      ]
     },
     "execution_count": 20,
     "metadata": {},
     "output_type": "execute_result"
    }
   ],
   "source": [
    "train_target.head()"
   ]
  },
  {
   "attachments": {},
   "cell_type": "markdown",
   "metadata": {},
   "source": [
    "## Create model"
   ]
  },
  {
   "cell_type": "code",
   "execution_count": 21,
   "metadata": {},
   "outputs": [],
   "source": [
    "from catboost import CatBoostRegressor\n",
    "from catboost.utils import eval_metric\n",
    "\n",
    "model = CatBoostRegressor(verbose=False, allow_writing_files=False, random_state=42)"
   ]
  },
  {
   "cell_type": "code",
   "execution_count": 22,
   "metadata": {},
   "outputs": [
    {
     "data": {
      "text/plain": [
       "<catboost.core.CatBoostRegressor at 0x1ac0b305c60>"
      ]
     },
     "execution_count": 22,
     "metadata": {},
     "output_type": "execute_result"
    }
   ],
   "source": [
    "model.fit(train_features, train_target)"
   ]
  },
  {
   "cell_type": "code",
   "execution_count": 23,
   "metadata": {},
   "outputs": [
    {
     "data": {
      "text/plain": [
       "[37.8901442213532]"
      ]
     },
     "execution_count": 23,
     "metadata": {},
     "output_type": "execute_result"
    }
   ],
   "source": [
    "predictions = model.predict(test_features)\n",
    "eval_metric(test_target.values, predictions, \"SMAPE\")"
   ]
  },
  {
   "attachments": {},
   "cell_type": "markdown",
   "metadata": {},
   "source": [
    "### Enriching our data"
   ]
  },
  {
   "cell_type": "code",
   "execution_count": 24,
   "metadata": {},
   "outputs": [],
   "source": [
    "from upgini import FeaturesEnricher, SearchKey\n",
    "from upgini.metadata import CVType\n",
    "\n",
    "enricher = FeaturesEnricher(\n",
    "    search_keys={\n",
    "        'date': SearchKey.DATE\n",
    "    },\n",
    "    cv=CVType.time_series\n",
    ")"
   ]
  },
  {
   "cell_type": "code",
   "execution_count": 25,
   "metadata": {},
   "outputs": [
    {
     "name": "stderr",
     "output_type": "stream",
     "text": [
      "c:\\code\\iths\\.env\\lib\\site-packages\\upgini\\features_enricher.py:1137: FutureWarning: The behavior of `series[i:j]` with an integer-dtype index is deprecated. In a future version, this will be treated as *label-based* indexing, consistent with e.g. `series[i]` lookups. To retain the old behavior, use `series.iloc[i:j]`. To get the future behavior, use `series.loc[i:j]`.\n",
      "  self.logger.info(f\"First 10 rows of the eval_y_{idx} with shape {len(eval_y)}:\\n{eval_y[:10]}\")\n"
     ]
    },
    {
     "name": "stdout",
     "output_type": "stream",
     "text": [
      "WARNING: You have started the search with the DATE key only. Try to add the COUNTRY and/or POSTAL_CODE and/or PHONE NUMBER and/or EMAIL/HEM and/or IP address keys to your dataset so that the search engine gets access to the additional data sources. Get details on https://github.com/upgini/upgini#readme\n",
      "Detected task type: ModelTaskType.REGRESSION\n",
      "WARNING: You use 1.1.55 version, but latest is 1.1.74.\n"
     ]
    },
    {
     "data": {
      "text/html": [
       "<table><tr><th style='font-weight:bold'>Column name</th><th style='font-weight:bold'>Status</th><th style='font-weight:bold'>Description</th></tr><tr><td>target</td><td style='background-color:#DAF7A6;color:black'>All valid</td><td>All values in this column are good to go</td></tr><tr><td>date</td><td style='background-color:#DAF7A6;color:black'>All valid</td><td>All values in this column are good to go</td></tr></table>"
      ],
      "text/plain": [
       "<IPython.core.display.HTML object>"
      ]
     },
     "metadata": {},
     "output_type": "display_data"
    },
    {
     "name": "stdout",
     "output_type": "stream",
     "text": [
      "Running search request with search_id=2e0eed9c-ef57-4716-a570-ba226fcce387\n",
      "We'll send email notification once it's completed, just use your personal api_key from profile.upgini.com\n",
      "Done\n",
      "\n",
      "\u001b[92m\u001b[1m\n",
      "7 relevant feature(s) found with the search keys: ['date']\u001b[0m\n"
     ]
    },
    {
     "name": "stderr",
     "output_type": "stream",
     "text": [
      "c:\\code\\iths\\.env\\lib\\site-packages\\upgini\\features_enricher.py:1476: FutureWarning: this method is deprecated in favour of `Styler.hide(axis=\"index\")`\n",
      "  display(self.features_info.head(60).style.hide_index())\n"
     ]
    },
    {
     "data": {
      "text/html": [
       "<style type=\"text/css\">\n",
       "</style>\n",
       "<table id=\"T_545d2\">\n",
       "  <thead>\n",
       "    <tr>\n",
       "      <th id=\"T_545d2_level0_col0\" class=\"col_heading level0 col0\" >provider</th>\n",
       "      <th id=\"T_545d2_level0_col1\" class=\"col_heading level0 col1\" >source</th>\n",
       "      <th id=\"T_545d2_level0_col2\" class=\"col_heading level0 col2\" >feature name</th>\n",
       "      <th id=\"T_545d2_level0_col3\" class=\"col_heading level0 col3\" >shap value</th>\n",
       "      <th id=\"T_545d2_level0_col4\" class=\"col_heading level0 col4\" >coverage %</th>\n",
       "      <th id=\"T_545d2_level0_col5\" class=\"col_heading level0 col5\" >type</th>\n",
       "      <th id=\"T_545d2_level0_col6\" class=\"col_heading level0 col6\" >feature type</th>\n",
       "    </tr>\n",
       "  </thead>\n",
       "  <tbody>\n",
       "    <tr>\n",
       "      <td id=\"T_545d2_row0_col0\" class=\"data row0 col0\" ></td>\n",
       "      <td id=\"T_545d2_row0_col1\" class=\"data row0 col1\" ></td>\n",
       "      <td id=\"T_545d2_row0_col2\" class=\"data row0 col2\" >item</td>\n",
       "      <td id=\"T_545d2_row0_col3\" class=\"data row0 col3\" >0.422035</td>\n",
       "      <td id=\"T_545d2_row0_col4\" class=\"data row0 col4\" >100.000000</td>\n",
       "      <td id=\"T_545d2_row0_col5\" class=\"data row0 col5\" >numerical</td>\n",
       "      <td id=\"T_545d2_row0_col6\" class=\"data row0 col6\" ></td>\n",
       "    </tr>\n",
       "    <tr>\n",
       "      <td id=\"T_545d2_row1_col0\" class=\"data row1 col0\" ><a href='https://upgini.com/#data_sources' target='_blank' rel='noopener noreferrer'>Upgini</a></td>\n",
       "      <td id=\"T_545d2_row1_col1\" class=\"data row1 col1\" ><a href='https://upgini.com/#data_sources' target='_blank' rel='noopener noreferrer'>Public/Comm. shared</a></td>\n",
       "      <td id=\"T_545d2_row1_col2\" class=\"data row1 col2\" >f_weather_date_weather_pca_0_d7e0a1fc</td>\n",
       "      <td id=\"T_545d2_row1_col3\" class=\"data row1 col3\" >0.284613</td>\n",
       "      <td id=\"T_545d2_row1_col4\" class=\"data row1 col4\" >100.000000</td>\n",
       "      <td id=\"T_545d2_row1_col5\" class=\"data row1 col5\" >numerical</td>\n",
       "      <td id=\"T_545d2_row1_col6\" class=\"data row1 col6\" >Free</td>\n",
       "    </tr>\n",
       "    <tr>\n",
       "      <td id=\"T_545d2_row2_col0\" class=\"data row2 col0\" ></td>\n",
       "      <td id=\"T_545d2_row2_col1\" class=\"data row2 col1\" ></td>\n",
       "      <td id=\"T_545d2_row2_col2\" class=\"data row2 col2\" >store</td>\n",
       "      <td id=\"T_545d2_row2_col3\" class=\"data row2 col3\" >0.079622</td>\n",
       "      <td id=\"T_545d2_row2_col4\" class=\"data row2 col4\" >100.000000</td>\n",
       "      <td id=\"T_545d2_row2_col5\" class=\"data row2 col5\" >numerical</td>\n",
       "      <td id=\"T_545d2_row2_col6\" class=\"data row2 col6\" ></td>\n",
       "    </tr>\n",
       "    <tr>\n",
       "      <td id=\"T_545d2_row3_col0\" class=\"data row3 col0\" ><a href='https://upgini.com/#data_sources' target='_blank' rel='noopener noreferrer'>Upgini</a></td>\n",
       "      <td id=\"T_545d2_row3_col1\" class=\"data row3 col1\" ><a href='https://upgini.com/#data_sources' target='_blank' rel='noopener noreferrer'>Public/Comm. shared</a></td>\n",
       "      <td id=\"T_545d2_row3_col2\" class=\"data row3 col2\" >f_events_date_week_sin1_847b5db1</td>\n",
       "      <td id=\"T_545d2_row3_col3\" class=\"data row3 col3\" >0.048605</td>\n",
       "      <td id=\"T_545d2_row3_col4\" class=\"data row3 col4\" >100.000000</td>\n",
       "      <td id=\"T_545d2_row3_col5\" class=\"data row3 col5\" >numerical</td>\n",
       "      <td id=\"T_545d2_row3_col6\" class=\"data row3 col6\" >Free</td>\n",
       "    </tr>\n",
       "    <tr>\n",
       "      <td id=\"T_545d2_row4_col0\" class=\"data row4 col0\" ><a href='https://upgini.com/#data_sources' target='_blank' rel='noopener noreferrer'>Upgini</a></td>\n",
       "      <td id=\"T_545d2_row4_col1\" class=\"data row4 col1\" ><a href='https://upgini.com/#data_sources' target='_blank' rel='noopener noreferrer'>Public/Comm. shared</a></td>\n",
       "      <td id=\"T_545d2_row4_col2\" class=\"data row4 col2\" >f_events_date_year_cos1_9014a856</td>\n",
       "      <td id=\"T_545d2_row4_col3\" class=\"data row4 col3\" >0.043097</td>\n",
       "      <td id=\"T_545d2_row4_col4\" class=\"data row4 col4\" >100.000000</td>\n",
       "      <td id=\"T_545d2_row4_col5\" class=\"data row4 col5\" >numerical</td>\n",
       "      <td id=\"T_545d2_row4_col6\" class=\"data row4 col6\" >Free</td>\n",
       "    </tr>\n",
       "    <tr>\n",
       "      <td id=\"T_545d2_row5_col0\" class=\"data row5 col0\" ><a href='https://upgini.com/#data_sources' target='_blank' rel='noopener noreferrer'>Upgini</a></td>\n",
       "      <td id=\"T_545d2_row5_col1\" class=\"data row5 col1\" ><a href='https://upgini.com/#data_sources' target='_blank' rel='noopener noreferrer'>Public/Comm. shared</a></td>\n",
       "      <td id=\"T_545d2_row5_col2\" class=\"data row5 col2\" >f_weather_date_weather_umap_28_b90870a1</td>\n",
       "      <td id=\"T_545d2_row5_col3\" class=\"data row5 col3\" >0.038404</td>\n",
       "      <td id=\"T_545d2_row5_col4\" class=\"data row5 col4\" >100.000000</td>\n",
       "      <td id=\"T_545d2_row5_col5\" class=\"data row5 col5\" >numerical</td>\n",
       "      <td id=\"T_545d2_row5_col6\" class=\"data row5 col6\" >Free</td>\n",
       "    </tr>\n",
       "    <tr>\n",
       "      <td id=\"T_545d2_row6_col0\" class=\"data row6 col0\" ><a href='https://upgini.com/#data_sources' target='_blank' rel='noopener noreferrer'>Upgini</a></td>\n",
       "      <td id=\"T_545d2_row6_col1\" class=\"data row6 col1\" ><a href='https://upgini.com/#data_sources' target='_blank' rel='noopener noreferrer'>Public/Comm. shared</a></td>\n",
       "      <td id=\"T_545d2_row6_col2\" class=\"data row6 col2\" >f_weather_date_weather_umap_31_fa6d9a99</td>\n",
       "      <td id=\"T_545d2_row6_col3\" class=\"data row6 col3\" >0.029407</td>\n",
       "      <td id=\"T_545d2_row6_col4\" class=\"data row6 col4\" >100.000000</td>\n",
       "      <td id=\"T_545d2_row6_col5\" class=\"data row6 col5\" >numerical</td>\n",
       "      <td id=\"T_545d2_row6_col6\" class=\"data row6 col6\" >Free</td>\n",
       "    </tr>\n",
       "    <tr>\n",
       "      <td id=\"T_545d2_row7_col0\" class=\"data row7 col0\" ><a href='https://upgini.com/#data_sources' target='_blank' rel='noopener noreferrer'>Upgini</a></td>\n",
       "      <td id=\"T_545d2_row7_col1\" class=\"data row7 col1\" ><a href='https://upgini.com/#data_sources' target='_blank' rel='noopener noreferrer'>Public/Comm. shared</a></td>\n",
       "      <td id=\"T_545d2_row7_col2\" class=\"data row7 col2\" >f_events_date_week_cos1_f6a8c1fc</td>\n",
       "      <td id=\"T_545d2_row7_col3\" class=\"data row7 col3\" >0.009782</td>\n",
       "      <td id=\"T_545d2_row7_col4\" class=\"data row7 col4\" >100.000000</td>\n",
       "      <td id=\"T_545d2_row7_col5\" class=\"data row7 col5\" >numerical</td>\n",
       "      <td id=\"T_545d2_row7_col6\" class=\"data row7 col6\" >Free</td>\n",
       "    </tr>\n",
       "    <tr>\n",
       "      <td id=\"T_545d2_row8_col0\" class=\"data row8 col0\" ><a href='https://upgini.com/#data_sources' target='_blank' rel='noopener noreferrer'>Upgini</a></td>\n",
       "      <td id=\"T_545d2_row8_col1\" class=\"data row8 col1\" ><a href='https://upgini.com/#data_sources' target='_blank' rel='noopener noreferrer'>Public/Comm. shared</a></td>\n",
       "      <td id=\"T_545d2_row8_col2\" class=\"data row8 col2\" >f_financial_date_dow_jones_fe02128f</td>\n",
       "      <td id=\"T_545d2_row8_col3\" class=\"data row8 col3\" >0.005034</td>\n",
       "      <td id=\"T_545d2_row8_col4\" class=\"data row8 col4\" >100.000000</td>\n",
       "      <td id=\"T_545d2_row8_col5\" class=\"data row8 col5\" >numerical</td>\n",
       "      <td id=\"T_545d2_row8_col6\" class=\"data row8 col6\" >Free</td>\n",
       "    </tr>\n",
       "  </tbody>\n",
       "</table>\n"
      ],
      "text/plain": [
       "<pandas.io.formats.style.Styler at 0x1ac2cac9060>"
      ]
     },
     "metadata": {},
     "output_type": "display_data"
    }
   ],
   "source": [
    "enricher.fit(train_features, train_target, eval_set=[(test_features, test_target)])"
   ]
  },
  {
   "cell_type": "code",
   "execution_count": 26,
   "metadata": {},
   "outputs": [
    {
     "data": {
      "text/plain": [
       "['f_weather_date_weather_pca_0_d7e0a1fc',\n",
       " 'f_events_date_week_sin1_847b5db1',\n",
       " 'f_events_date_year_cos1_9014a856',\n",
       " 'f_weather_date_weather_umap_28_b90870a1',\n",
       " 'f_weather_date_weather_umap_31_fa6d9a99',\n",
       " 'f_events_date_week_cos1_f6a8c1fc',\n",
       " 'f_financial_date_dow_jones_fe02128f']"
      ]
     },
     "execution_count": 26,
     "metadata": {},
     "output_type": "execute_result"
    }
   ],
   "source": [
    "enricher.feature_names_"
   ]
  },
  {
   "cell_type": "code",
   "execution_count": 27,
   "metadata": {},
   "outputs": [
    {
     "data": {
      "text/plain": [
       "[0.28461332583112026,\n",
       " 0.048605017281119045,\n",
       " 0.04309735954971387,\n",
       " 0.03840362359007534,\n",
       " 0.02940653475683712,\n",
       " 0.009781822387042656,\n",
       " 0.00503417722492723]"
      ]
     },
     "execution_count": 27,
     "metadata": {},
     "output_type": "execute_result"
    }
   ],
   "source": [
    "enricher.feature_importances_"
   ]
  },
  {
   "cell_type": "code",
   "execution_count": 28,
   "metadata": {},
   "outputs": [
    {
     "name": "stdout",
     "output_type": "stream",
     "text": [
      "f_weather_date_weather_pca_0_d7e0a1fc\t\t0.28461332583112026\n",
      "f_events_date_week_sin1_847b5db1\t\t0.048605017281119045\n",
      "f_events_date_year_cos1_9014a856\t\t0.04309735954971387\n",
      "f_weather_date_weather_umap_28_b90870a1\t\t0.03840362359007534\n",
      "f_weather_date_weather_umap_31_fa6d9a99\t\t0.02940653475683712\n",
      "f_events_date_week_cos1_f6a8c1fc\t\t0.009781822387042656\n",
      "f_financial_date_dow_jones_fe02128f\t\t0.00503417722492723\n"
     ]
    }
   ],
   "source": [
    "for name, shap in zip(enricher.feature_names_, enricher.feature_importances_):\n",
    "    print(f'{name}\\t\\t{shap}')"
   ]
  },
  {
   "cell_type": "code",
   "execution_count": 29,
   "metadata": {},
   "outputs": [
    {
     "data": {
      "text/html": [
       "<div>\n",
       "<style scoped>\n",
       "    .dataframe tbody tr th:only-of-type {\n",
       "        vertical-align: middle;\n",
       "    }\n",
       "\n",
       "    .dataframe tbody tr th {\n",
       "        vertical-align: top;\n",
       "    }\n",
       "\n",
       "    .dataframe thead th {\n",
       "        text-align: right;\n",
       "    }\n",
       "</style>\n",
       "<table border=\"1\" class=\"dataframe\">\n",
       "  <thead>\n",
       "    <tr style=\"text-align: right;\">\n",
       "      <th></th>\n",
       "      <th>feature name</th>\n",
       "      <th>shap value</th>\n",
       "    </tr>\n",
       "  </thead>\n",
       "  <tbody>\n",
       "    <tr>\n",
       "      <th>0</th>\n",
       "      <td>item</td>\n",
       "      <td>0.422035</td>\n",
       "    </tr>\n",
       "    <tr>\n",
       "      <th>1</th>\n",
       "      <td>f_weather_date_weather_pca_0_d7e0a1fc</td>\n",
       "      <td>0.284613</td>\n",
       "    </tr>\n",
       "    <tr>\n",
       "      <th>2</th>\n",
       "      <td>store</td>\n",
       "      <td>0.079622</td>\n",
       "    </tr>\n",
       "    <tr>\n",
       "      <th>3</th>\n",
       "      <td>f_events_date_week_sin1_847b5db1</td>\n",
       "      <td>0.048605</td>\n",
       "    </tr>\n",
       "    <tr>\n",
       "      <th>4</th>\n",
       "      <td>f_events_date_year_cos1_9014a856</td>\n",
       "      <td>0.043097</td>\n",
       "    </tr>\n",
       "    <tr>\n",
       "      <th>5</th>\n",
       "      <td>f_weather_date_weather_umap_28_b90870a1</td>\n",
       "      <td>0.038404</td>\n",
       "    </tr>\n",
       "    <tr>\n",
       "      <th>6</th>\n",
       "      <td>f_weather_date_weather_umap_31_fa6d9a99</td>\n",
       "      <td>0.029407</td>\n",
       "    </tr>\n",
       "    <tr>\n",
       "      <th>7</th>\n",
       "      <td>f_events_date_week_cos1_f6a8c1fc</td>\n",
       "      <td>0.009782</td>\n",
       "    </tr>\n",
       "    <tr>\n",
       "      <th>8</th>\n",
       "      <td>f_financial_date_dow_jones_fe02128f</td>\n",
       "      <td>0.005034</td>\n",
       "    </tr>\n",
       "  </tbody>\n",
       "</table>\n",
       "</div>"
      ],
      "text/plain": [
       "                              feature name  shap value\n",
       "0                                     item    0.422035\n",
       "1    f_weather_date_weather_pca_0_d7e0a1fc    0.284613\n",
       "2                                    store    0.079622\n",
       "3         f_events_date_week_sin1_847b5db1    0.048605\n",
       "4         f_events_date_year_cos1_9014a856    0.043097\n",
       "5  f_weather_date_weather_umap_28_b90870a1    0.038404\n",
       "6  f_weather_date_weather_umap_31_fa6d9a99    0.029407\n",
       "7         f_events_date_week_cos1_f6a8c1fc    0.009782\n",
       "8      f_financial_date_dow_jones_fe02128f    0.005034"
      ]
     },
     "execution_count": 29,
     "metadata": {},
     "output_type": "execute_result"
    }
   ],
   "source": [
    "result_df = enricher.get_features_info().drop(columns=['provider', 'source', 'coverage %', 'type', 'feature type'])\n",
    "result_df"
   ]
  },
  {
   "cell_type": "code",
   "execution_count": 30,
   "metadata": {},
   "outputs": [
    {
     "name": "stdout",
     "output_type": "stream",
     "text": [
      "Calculating metrics...\n",
      "-\r"
     ]
    },
    {
     "name": "stderr",
     "output_type": "stream",
     "text": [
      "c:\\code\\iths\\.env\\lib\\site-packages\\upgini\\features_enricher.py:1137: FutureWarning: The behavior of `series[i:j]` with an integer-dtype index is deprecated. In a future version, this will be treated as *label-based* indexing, consistent with e.g. `series[i]` lookups. To retain the old behavior, use `series.iloc[i:j]`. To get the future behavior, use `series.loc[i:j]`.\n",
      "  self.logger.info(f\"First 10 rows of the eval_y_{idx} with shape {len(eval_y)}:\\n{eval_y[:10]}\")\n"
     ]
    },
    {
     "name": "stdout",
     "output_type": "stream",
     "text": [
      "Done\n"
     ]
    },
    {
     "data": {
      "text/html": [
       "<div>\n",
       "<style scoped>\n",
       "    .dataframe tbody tr th:only-of-type {\n",
       "        vertical-align: middle;\n",
       "    }\n",
       "\n",
       "    .dataframe tbody tr th {\n",
       "        vertical-align: top;\n",
       "    }\n",
       "\n",
       "    .dataframe thead th {\n",
       "        text-align: right;\n",
       "    }\n",
       "</style>\n",
       "<table border=\"1\" class=\"dataframe\">\n",
       "  <thead>\n",
       "    <tr style=\"text-align: right;\">\n",
       "      <th></th>\n",
       "      <th>match_rate</th>\n",
       "      <th>baseline mean_absolute_percentage_error</th>\n",
       "      <th>enriched mean_absolute_percentage_error</th>\n",
       "      <th>uplift</th>\n",
       "    </tr>\n",
       "    <tr>\n",
       "      <th></th>\n",
       "      <th></th>\n",
       "      <th></th>\n",
       "      <th></th>\n",
       "      <th></th>\n",
       "    </tr>\n",
       "  </thead>\n",
       "  <tbody>\n",
       "    <tr>\n",
       "      <th>train</th>\n",
       "      <td>100.0</td>\n",
       "      <td>0.243060</td>\n",
       "      <td>0.154440</td>\n",
       "      <td>0.08862</td>\n",
       "    </tr>\n",
       "    <tr>\n",
       "      <th>eval 1</th>\n",
       "      <td>100.0</td>\n",
       "      <td>0.257624</td>\n",
       "      <td>0.186904</td>\n",
       "      <td>0.07072</td>\n",
       "    </tr>\n",
       "  </tbody>\n",
       "</table>\n",
       "</div>"
      ],
      "text/plain": [
       "        match_rate  baseline mean_absolute_percentage_error  \\\n",
       "                                                              \n",
       "train        100.0                                 0.243060   \n",
       "eval 1       100.0                                 0.257624   \n",
       "\n",
       "        enriched mean_absolute_percentage_error   uplift  \n",
       "                                                          \n",
       "train                                  0.154440  0.08862  \n",
       "eval 1                                 0.186904  0.07072  "
      ]
     },
     "execution_count": 30,
     "metadata": {},
     "output_type": "execute_result"
    }
   ],
   "source": [
    "enricher.calculate_metrics(\n",
    "    train_features, train_target, eval_set=[(test_features, test_target)],\n",
    "    estimator=model,\n",
    "    scoring='mean_absolute_percentage_error'\n",
    ")"
   ]
  },
  {
   "cell_type": "code",
   "execution_count": 31,
   "metadata": {},
   "outputs": [
    {
     "name": "stdout",
     "output_type": "stream",
     "text": [
      "WARNING: You have started the search with the DATE key only. Try to add the COUNTRY and/or POSTAL_CODE and/or PHONE NUMBER and/or EMAIL/HEM and/or IP address keys to your dataset so that the search engine gets access to the additional data sources. Get details on https://github.com/upgini/upgini#readme\n",
      "WARNING: 97.94373% of the rows are fully duplicated.\n"
     ]
    },
    {
     "data": {
      "text/html": [
       "<table><tr><th style='font-weight:bold'>Column name</th><th style='font-weight:bold'>Status</th><th style='font-weight:bold'>Description</th></tr><tr><td>date</td><td style='background-color:#DAF7A6;color:black'>All valid</td><td>All values in this column are good to go</td></tr></table>"
      ],
      "text/plain": [
       "<IPython.core.display.HTML object>"
      ]
     },
     "metadata": {},
     "output_type": "display_data"
    },
    {
     "name": "stdout",
     "output_type": "stream",
     "text": [
      "Running search request with search_id=24be50f6-e20e-4052-b8b8-a4809a55b3d8\n",
      "We'll send email notification once it's completed, just use your personal api_key from profile.upgini.com\n",
      "Done\n",
      "\n",
      "Collecting selected features...\n",
      "Done\n"
     ]
    },
    {
     "data": {
      "text/html": [
       "<div>\n",
       "<style scoped>\n",
       "    .dataframe tbody tr th:only-of-type {\n",
       "        vertical-align: middle;\n",
       "    }\n",
       "\n",
       "    .dataframe tbody tr th {\n",
       "        vertical-align: top;\n",
       "    }\n",
       "\n",
       "    .dataframe thead th {\n",
       "        text-align: right;\n",
       "    }\n",
       "</style>\n",
       "<table border=\"1\" class=\"dataframe\">\n",
       "  <thead>\n",
       "    <tr style=\"text-align: right;\">\n",
       "      <th></th>\n",
       "      <th>date</th>\n",
       "      <th>store</th>\n",
       "      <th>item</th>\n",
       "      <th>f_weather_date_weather_pca_0_d7e0a1fc</th>\n",
       "      <th>f_events_date_week_sin1_847b5db1</th>\n",
       "      <th>f_events_date_year_cos1_9014a856</th>\n",
       "      <th>f_weather_date_weather_umap_28_b90870a1</th>\n",
       "      <th>f_weather_date_weather_umap_31_fa6d9a99</th>\n",
       "      <th>f_events_date_week_cos1_f6a8c1fc</th>\n",
       "      <th>f_financial_date_dow_jones_fe02128f</th>\n",
       "    </tr>\n",
       "  </thead>\n",
       "  <tbody>\n",
       "    <tr>\n",
       "      <th>0</th>\n",
       "      <td>2013-01-01</td>\n",
       "      <td>7</td>\n",
       "      <td>5</td>\n",
       "      <td>29.676683</td>\n",
       "      <td>0.781831</td>\n",
       "      <td>0.98522</td>\n",
       "      <td>4.934963</td>\n",
       "      <td>4.712653</td>\n",
       "      <td>0.62349</td>\n",
       "      <td>13104.139648</td>\n",
       "    </tr>\n",
       "    <tr>\n",
       "      <th>1</th>\n",
       "      <td>2013-01-01</td>\n",
       "      <td>10</td>\n",
       "      <td>21</td>\n",
       "      <td>29.676683</td>\n",
       "      <td>0.781831</td>\n",
       "      <td>0.98522</td>\n",
       "      <td>4.934963</td>\n",
       "      <td>4.712653</td>\n",
       "      <td>0.62349</td>\n",
       "      <td>13104.139648</td>\n",
       "    </tr>\n",
       "    <tr>\n",
       "      <th>2</th>\n",
       "      <td>2013-01-01</td>\n",
       "      <td>8</td>\n",
       "      <td>21</td>\n",
       "      <td>29.676683</td>\n",
       "      <td>0.781831</td>\n",
       "      <td>0.98522</td>\n",
       "      <td>4.934963</td>\n",
       "      <td>4.712653</td>\n",
       "      <td>0.62349</td>\n",
       "      <td>13104.139648</td>\n",
       "    </tr>\n",
       "    <tr>\n",
       "      <th>3</th>\n",
       "      <td>2013-01-01</td>\n",
       "      <td>3</td>\n",
       "      <td>21</td>\n",
       "      <td>29.676683</td>\n",
       "      <td>0.781831</td>\n",
       "      <td>0.98522</td>\n",
       "      <td>4.934963</td>\n",
       "      <td>4.712653</td>\n",
       "      <td>0.62349</td>\n",
       "      <td>13104.139648</td>\n",
       "    </tr>\n",
       "    <tr>\n",
       "      <th>4</th>\n",
       "      <td>2013-01-01</td>\n",
       "      <td>7</td>\n",
       "      <td>37</td>\n",
       "      <td>29.676683</td>\n",
       "      <td>0.781831</td>\n",
       "      <td>0.98522</td>\n",
       "      <td>4.934963</td>\n",
       "      <td>4.712653</td>\n",
       "      <td>0.62349</td>\n",
       "      <td>13104.139648</td>\n",
       "    </tr>\n",
       "  </tbody>\n",
       "</table>\n",
       "</div>"
      ],
      "text/plain": [
       "        date  store  item  f_weather_date_weather_pca_0_d7e0a1fc  \\\n",
       "0 2013-01-01      7     5                              29.676683   \n",
       "1 2013-01-01     10    21                              29.676683   \n",
       "2 2013-01-01      8    21                              29.676683   \n",
       "3 2013-01-01      3    21                              29.676683   \n",
       "4 2013-01-01      7    37                              29.676683   \n",
       "\n",
       "   f_events_date_week_sin1_847b5db1  f_events_date_year_cos1_9014a856  \\\n",
       "0                          0.781831                           0.98522   \n",
       "1                          0.781831                           0.98522   \n",
       "2                          0.781831                           0.98522   \n",
       "3                          0.781831                           0.98522   \n",
       "4                          0.781831                           0.98522   \n",
       "\n",
       "   f_weather_date_weather_umap_28_b90870a1  \\\n",
       "0                                 4.934963   \n",
       "1                                 4.934963   \n",
       "2                                 4.934963   \n",
       "3                                 4.934963   \n",
       "4                                 4.934963   \n",
       "\n",
       "   f_weather_date_weather_umap_31_fa6d9a99  f_events_date_week_cos1_f6a8c1fc  \\\n",
       "0                                 4.712653                           0.62349   \n",
       "1                                 4.712653                           0.62349   \n",
       "2                                 4.712653                           0.62349   \n",
       "3                                 4.712653                           0.62349   \n",
       "4                                 4.712653                           0.62349   \n",
       "\n",
       "   f_financial_date_dow_jones_fe02128f  \n",
       "0                         13104.139648  \n",
       "1                         13104.139648  \n",
       "2                         13104.139648  \n",
       "3                         13104.139648  \n",
       "4                         13104.139648  "
      ]
     },
     "execution_count": 31,
     "metadata": {},
     "output_type": "execute_result"
    }
   ],
   "source": [
    "enricher.transform(train_features, keep_input=True).head()"
   ]
  },
  {
   "cell_type": "code",
   "execution_count": 32,
   "metadata": {},
   "outputs": [
    {
     "name": "stdout",
     "output_type": "stream",
     "text": [
      "WARNING: You have started the search with the DATE key only. Try to add the COUNTRY and/or POSTAL_CODE and/or PHONE NUMBER and/or EMAIL/HEM and/or IP address keys to your dataset so that the search engine gets access to the additional data sources. Get details on https://github.com/upgini/upgini#readme\n",
      "WARNING: 97.94373% of the rows are fully duplicated.\n"
     ]
    },
    {
     "data": {
      "text/html": [
       "<table><tr><th style='font-weight:bold'>Column name</th><th style='font-weight:bold'>Status</th><th style='font-weight:bold'>Description</th></tr><tr><td>date</td><td style='background-color:#DAF7A6;color:black'>All valid</td><td>All values in this column are good to go</td></tr></table>"
      ],
      "text/plain": [
       "<IPython.core.display.HTML object>"
      ]
     },
     "metadata": {},
     "output_type": "display_data"
    },
    {
     "name": "stdout",
     "output_type": "stream",
     "text": [
      "Running search request with search_id=e480cd04-b1e4-4cb7-8f44-bf8e35334cfd\n",
      "We'll send email notification once it's completed, just use your personal api_key from profile.upgini.com\n",
      "Done\n",
      "\n",
      "Collecting selected features...\n",
      "Done\n",
      "WARNING: You have started the search with the DATE key only. Try to add the COUNTRY and/or POSTAL_CODE and/or PHONE NUMBER and/or EMAIL/HEM and/or IP address keys to your dataset so that the search engine gets access to the additional data sources. Get details on https://github.com/upgini/upgini#readme\n",
      "WARNING: 97.96646% of the rows are fully duplicated.\n"
     ]
    },
    {
     "data": {
      "text/html": [
       "<table><tr><th style='font-weight:bold'>Column name</th><th style='font-weight:bold'>Status</th><th style='font-weight:bold'>Description</th></tr><tr><td>date</td><td style='background-color:#DAF7A6;color:black'>All valid</td><td>All values in this column are good to go</td></tr></table>"
      ],
      "text/plain": [
       "<IPython.core.display.HTML object>"
      ]
     },
     "metadata": {},
     "output_type": "display_data"
    },
    {
     "name": "stdout",
     "output_type": "stream",
     "text": [
      "Running search request with search_id=2ea8f1eb-15ea-4324-b989-af4a95628309\n",
      "We'll send email notification once it's completed, just use your personal api_key from profile.upgini.com\n",
      "Done\n",
      "\n",
      "Collecting selected features...\n",
      "Done\n"
     ]
    }
   ],
   "source": [
    "enriched_train_features = enricher.transform(train_features, keep_input=True)\n",
    "enriched_test_features = enricher.transform(test_features, keep_input=True)"
   ]
  },
  {
   "attachments": {},
   "cell_type": "markdown",
   "metadata": {},
   "source": [
    "### Predicting with our enriched data"
   ]
  },
  {
   "cell_type": "code",
   "execution_count": 33,
   "metadata": {},
   "outputs": [
    {
     "data": {
      "text/plain": [
       "[13.298375445833686]"
      ]
     },
     "execution_count": 33,
     "metadata": {},
     "output_type": "execute_result"
    }
   ],
   "source": [
    "model.fit(enriched_train_features, train_target)\n",
    "predictions = model.predict(enriched_test_features)\n",
    "eval_metric(test_target.values, predictions, 'SMAPE')"
   ]
  },
  {
   "attachments": {},
   "cell_type": "markdown",
   "metadata": {},
   "source": [
    "Before\n",
    "37.38282082443815\n",
    "After\n",
    "14.174379469429864"
   ]
  }
 ],
 "metadata": {
  "kernelspec": {
   "display_name": ".env",
   "language": "python",
   "name": "python3"
  },
  "language_info": {
   "codemirror_mode": {
    "name": "ipython",
    "version": 3
   },
   "file_extension": ".py",
   "mimetype": "text/x-python",
   "name": "python",
   "nbconvert_exporter": "python",
   "pygments_lexer": "ipython3",
   "version": "3.10.7"
  },
  "orig_nbformat": 4,
  "vscode": {
   "interpreter": {
    "hash": "8bc9e4ca761b3c59d89c107e186922c6a609b16a19a8ead675ec70cca98a1a19"
   }
  }
 },
 "nbformat": 4,
 "nbformat_minor": 2
}
