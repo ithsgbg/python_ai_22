{
 "cells": [
  {
   "cell_type": "code",
   "execution_count": 1,
   "metadata": {},
   "outputs": [],
   "source": [
    "import pandas as pd\n",
    "\n",
    "df = pd.read_csv('sales_data.csv')"
   ]
  },
  {
   "cell_type": "code",
   "execution_count": 2,
   "metadata": {},
   "outputs": [
    {
     "data": {
      "text/html": [
       "<div>\n",
       "<style scoped>\n",
       "    .dataframe tbody tr th:only-of-type {\n",
       "        vertical-align: middle;\n",
       "    }\n",
       "\n",
       "    .dataframe tbody tr th {\n",
       "        vertical-align: top;\n",
       "    }\n",
       "\n",
       "    .dataframe thead th {\n",
       "        text-align: right;\n",
       "    }\n",
       "</style>\n",
       "<table border=\"1\" class=\"dataframe\">\n",
       "  <thead>\n",
       "    <tr style=\"text-align: right;\">\n",
       "      <th></th>\n",
       "      <th>date</th>\n",
       "      <th>store</th>\n",
       "      <th>item</th>\n",
       "      <th>sales</th>\n",
       "    </tr>\n",
       "  </thead>\n",
       "  <tbody>\n",
       "    <tr>\n",
       "      <th>0</th>\n",
       "      <td>2013-01-01</td>\n",
       "      <td>1</td>\n",
       "      <td>1</td>\n",
       "      <td>13</td>\n",
       "    </tr>\n",
       "    <tr>\n",
       "      <th>1</th>\n",
       "      <td>2013-01-02</td>\n",
       "      <td>1</td>\n",
       "      <td>1</td>\n",
       "      <td>11</td>\n",
       "    </tr>\n",
       "    <tr>\n",
       "      <th>2</th>\n",
       "      <td>2013-01-03</td>\n",
       "      <td>1</td>\n",
       "      <td>1</td>\n",
       "      <td>14</td>\n",
       "    </tr>\n",
       "    <tr>\n",
       "      <th>3</th>\n",
       "      <td>2013-01-04</td>\n",
       "      <td>1</td>\n",
       "      <td>1</td>\n",
       "      <td>13</td>\n",
       "    </tr>\n",
       "    <tr>\n",
       "      <th>4</th>\n",
       "      <td>2013-01-05</td>\n",
       "      <td>1</td>\n",
       "      <td>1</td>\n",
       "      <td>10</td>\n",
       "    </tr>\n",
       "  </tbody>\n",
       "</table>\n",
       "</div>"
      ],
      "text/plain": [
       "         date  store  item  sales\n",
       "0  2013-01-01      1     1     13\n",
       "1  2013-01-02      1     1     11\n",
       "2  2013-01-03      1     1     14\n",
       "3  2013-01-04      1     1     13\n",
       "4  2013-01-05      1     1     10"
      ]
     },
     "execution_count": 2,
     "metadata": {},
     "output_type": "execute_result"
    }
   ],
   "source": [
    "df.head()"
   ]
  },
  {
   "cell_type": "code",
   "execution_count": 3,
   "metadata": {},
   "outputs": [
    {
     "data": {
      "text/plain": [
       "(913000, 4)"
      ]
     },
     "execution_count": 3,
     "metadata": {},
     "output_type": "execute_result"
    }
   ],
   "source": [
    "df.shape"
   ]
  },
  {
   "cell_type": "code",
   "execution_count": 4,
   "metadata": {},
   "outputs": [
    {
     "data": {
      "text/plain": [
       "date     object\n",
       "store     int64\n",
       "item      int64\n",
       "sales     int64\n",
       "dtype: object"
      ]
     },
     "execution_count": 4,
     "metadata": {},
     "output_type": "execute_result"
    }
   ],
   "source": [
    "df.dtypes"
   ]
  },
  {
   "cell_type": "code",
   "execution_count": 5,
   "metadata": {},
   "outputs": [],
   "source": [
    "df.date = pd.to_datetime(df.date)"
   ]
  },
  {
   "cell_type": "code",
   "execution_count": 6,
   "metadata": {},
   "outputs": [
    {
     "data": {
      "text/plain": [
       "date     datetime64[ns]\n",
       "store             int64\n",
       "item              int64\n",
       "sales             int64\n",
       "dtype: object"
      ]
     },
     "execution_count": 6,
     "metadata": {},
     "output_type": "execute_result"
    }
   ],
   "source": [
    "df.dtypes"
   ]
  },
  {
   "cell_type": "code",
   "execution_count": 7,
   "metadata": {},
   "outputs": [
    {
     "data": {
      "text/html": [
       "<div>\n",
       "<style scoped>\n",
       "    .dataframe tbody tr th:only-of-type {\n",
       "        vertical-align: middle;\n",
       "    }\n",
       "\n",
       "    .dataframe tbody tr th {\n",
       "        vertical-align: top;\n",
       "    }\n",
       "\n",
       "    .dataframe thead th {\n",
       "        text-align: right;\n",
       "    }\n",
       "</style>\n",
       "<table border=\"1\" class=\"dataframe\">\n",
       "  <thead>\n",
       "    <tr style=\"text-align: right;\">\n",
       "      <th></th>\n",
       "      <th>date</th>\n",
       "      <th>store</th>\n",
       "      <th>item</th>\n",
       "      <th>sales</th>\n",
       "    </tr>\n",
       "  </thead>\n",
       "  <tbody>\n",
       "    <tr>\n",
       "      <th>0</th>\n",
       "      <td>2013-01-01</td>\n",
       "      <td>1</td>\n",
       "      <td>1</td>\n",
       "      <td>13</td>\n",
       "    </tr>\n",
       "    <tr>\n",
       "      <th>1</th>\n",
       "      <td>2013-01-02</td>\n",
       "      <td>1</td>\n",
       "      <td>1</td>\n",
       "      <td>11</td>\n",
       "    </tr>\n",
       "    <tr>\n",
       "      <th>2</th>\n",
       "      <td>2013-01-03</td>\n",
       "      <td>1</td>\n",
       "      <td>1</td>\n",
       "      <td>14</td>\n",
       "    </tr>\n",
       "    <tr>\n",
       "      <th>3</th>\n",
       "      <td>2013-01-04</td>\n",
       "      <td>1</td>\n",
       "      <td>1</td>\n",
       "      <td>13</td>\n",
       "    </tr>\n",
       "    <tr>\n",
       "      <th>4</th>\n",
       "      <td>2013-01-05</td>\n",
       "      <td>1</td>\n",
       "      <td>1</td>\n",
       "      <td>10</td>\n",
       "    </tr>\n",
       "  </tbody>\n",
       "</table>\n",
       "</div>"
      ],
      "text/plain": [
       "        date  store  item  sales\n",
       "0 2013-01-01      1     1     13\n",
       "1 2013-01-02      1     1     11\n",
       "2 2013-01-03      1     1     14\n",
       "3 2013-01-04      1     1     13\n",
       "4 2013-01-05      1     1     10"
      ]
     },
     "execution_count": 7,
     "metadata": {},
     "output_type": "execute_result"
    }
   ],
   "source": [
    "df.head()"
   ]
  },
  {
   "cell_type": "code",
   "execution_count": 8,
   "metadata": {},
   "outputs": [],
   "source": [
    "df = df.sample(n=89_000, random_state=0)"
   ]
  },
  {
   "cell_type": "code",
   "execution_count": 9,
   "metadata": {},
   "outputs": [
    {
     "data": {
      "text/plain": [
       "(19000, 4)"
      ]
     },
     "execution_count": 9,
     "metadata": {},
     "output_type": "execute_result"
    }
   ],
   "source": [
    "df.shape"
   ]
  },
  {
   "cell_type": "code",
   "execution_count": 10,
   "metadata": {},
   "outputs": [
    {
     "data": {
      "text/html": [
       "<div>\n",
       "<style scoped>\n",
       "    .dataframe tbody tr th:only-of-type {\n",
       "        vertical-align: middle;\n",
       "    }\n",
       "\n",
       "    .dataframe tbody tr th {\n",
       "        vertical-align: top;\n",
       "    }\n",
       "\n",
       "    .dataframe thead th {\n",
       "        text-align: right;\n",
       "    }\n",
       "</style>\n",
       "<table border=\"1\" class=\"dataframe\">\n",
       "  <thead>\n",
       "    <tr style=\"text-align: right;\">\n",
       "      <th></th>\n",
       "      <th>date</th>\n",
       "      <th>store</th>\n",
       "      <th>item</th>\n",
       "      <th>sales</th>\n",
       "    </tr>\n",
       "  </thead>\n",
       "  <tbody>\n",
       "    <tr>\n",
       "      <th>335813</th>\n",
       "      <td>2017-07-14</td>\n",
       "      <td>4</td>\n",
       "      <td>19</td>\n",
       "      <td>56</td>\n",
       "    </tr>\n",
       "    <tr>\n",
       "      <th>630838</th>\n",
       "      <td>2015-05-19</td>\n",
       "      <td>6</td>\n",
       "      <td>35</td>\n",
       "      <td>45</td>\n",
       "    </tr>\n",
       "    <tr>\n",
       "      <th>365685</th>\n",
       "      <td>2014-05-01</td>\n",
       "      <td>1</td>\n",
       "      <td>21</td>\n",
       "      <td>48</td>\n",
       "    </tr>\n",
       "    <tr>\n",
       "      <th>322781</th>\n",
       "      <td>2016-11-06</td>\n",
       "      <td>7</td>\n",
       "      <td>18</td>\n",
       "      <td>85</td>\n",
       "    </tr>\n",
       "    <tr>\n",
       "      <th>151590</th>\n",
       "      <td>2013-02-02</td>\n",
       "      <td>4</td>\n",
       "      <td>9</td>\n",
       "      <td>46</td>\n",
       "    </tr>\n",
       "  </tbody>\n",
       "</table>\n",
       "</div>"
      ],
      "text/plain": [
       "             date  store  item  sales\n",
       "335813 2017-07-14      4    19     56\n",
       "630838 2015-05-19      6    35     45\n",
       "365685 2014-05-01      1    21     48\n",
       "322781 2016-11-06      7    18     85\n",
       "151590 2013-02-02      4     9     46"
      ]
     },
     "execution_count": 10,
     "metadata": {},
     "output_type": "execute_result"
    }
   ],
   "source": [
    "df.head()"
   ]
  },
  {
   "cell_type": "code",
   "execution_count": 11,
   "metadata": {},
   "outputs": [],
   "source": [
    "df.sort_values('date', inplace=True)"
   ]
  },
  {
   "cell_type": "code",
   "execution_count": 12,
   "metadata": {},
   "outputs": [
    {
     "data": {
      "text/html": [
       "<div>\n",
       "<style scoped>\n",
       "    .dataframe tbody tr th:only-of-type {\n",
       "        vertical-align: middle;\n",
       "    }\n",
       "\n",
       "    .dataframe tbody tr th {\n",
       "        vertical-align: top;\n",
       "    }\n",
       "\n",
       "    .dataframe thead th {\n",
       "        text-align: right;\n",
       "    }\n",
       "</style>\n",
       "<table border=\"1\" class=\"dataframe\">\n",
       "  <thead>\n",
       "    <tr style=\"text-align: right;\">\n",
       "      <th></th>\n",
       "      <th>date</th>\n",
       "      <th>store</th>\n",
       "      <th>item</th>\n",
       "      <th>sales</th>\n",
       "    </tr>\n",
       "  </thead>\n",
       "  <tbody>\n",
       "    <tr>\n",
       "      <th>83996</th>\n",
       "      <td>2013-01-01</td>\n",
       "      <td>7</td>\n",
       "      <td>5</td>\n",
       "      <td>5</td>\n",
       "    </tr>\n",
       "    <tr>\n",
       "      <th>151558</th>\n",
       "      <td>2013-01-01</td>\n",
       "      <td>4</td>\n",
       "      <td>9</td>\n",
       "      <td>19</td>\n",
       "    </tr>\n",
       "    <tr>\n",
       "      <th>584320</th>\n",
       "      <td>2013-01-01</td>\n",
       "      <td>1</td>\n",
       "      <td>33</td>\n",
       "      <td>37</td>\n",
       "    </tr>\n",
       "    <tr>\n",
       "      <th>734052</th>\n",
       "      <td>2013-01-01</td>\n",
       "      <td>3</td>\n",
       "      <td>41</td>\n",
       "      <td>14</td>\n",
       "    </tr>\n",
       "    <tr>\n",
       "      <th>427284</th>\n",
       "      <td>2013-01-01</td>\n",
       "      <td>5</td>\n",
       "      <td>24</td>\n",
       "      <td>26</td>\n",
       "    </tr>\n",
       "  </tbody>\n",
       "</table>\n",
       "</div>"
      ],
      "text/plain": [
       "             date  store  item  sales\n",
       "83996  2013-01-01      7     5      5\n",
       "151558 2013-01-01      4     9     19\n",
       "584320 2013-01-01      1    33     37\n",
       "734052 2013-01-01      3    41     14\n",
       "427284 2013-01-01      5    24     26"
      ]
     },
     "execution_count": 12,
     "metadata": {},
     "output_type": "execute_result"
    }
   ],
   "source": [
    "df.head()"
   ]
  },
  {
   "cell_type": "code",
   "execution_count": 13,
   "metadata": {},
   "outputs": [],
   "source": [
    "df.reset_index(inplace=True, drop=True)"
   ]
  },
  {
   "cell_type": "code",
   "execution_count": 14,
   "metadata": {},
   "outputs": [
    {
     "data": {
      "text/html": [
       "<div>\n",
       "<style scoped>\n",
       "    .dataframe tbody tr th:only-of-type {\n",
       "        vertical-align: middle;\n",
       "    }\n",
       "\n",
       "    .dataframe tbody tr th {\n",
       "        vertical-align: top;\n",
       "    }\n",
       "\n",
       "    .dataframe thead th {\n",
       "        text-align: right;\n",
       "    }\n",
       "</style>\n",
       "<table border=\"1\" class=\"dataframe\">\n",
       "  <thead>\n",
       "    <tr style=\"text-align: right;\">\n",
       "      <th></th>\n",
       "      <th>date</th>\n",
       "      <th>store</th>\n",
       "      <th>item</th>\n",
       "      <th>sales</th>\n",
       "    </tr>\n",
       "  </thead>\n",
       "  <tbody>\n",
       "    <tr>\n",
       "      <th>0</th>\n",
       "      <td>2013-01-01</td>\n",
       "      <td>7</td>\n",
       "      <td>5</td>\n",
       "      <td>5</td>\n",
       "    </tr>\n",
       "    <tr>\n",
       "      <th>1</th>\n",
       "      <td>2013-01-01</td>\n",
       "      <td>4</td>\n",
       "      <td>9</td>\n",
       "      <td>19</td>\n",
       "    </tr>\n",
       "    <tr>\n",
       "      <th>2</th>\n",
       "      <td>2013-01-01</td>\n",
       "      <td>1</td>\n",
       "      <td>33</td>\n",
       "      <td>37</td>\n",
       "    </tr>\n",
       "    <tr>\n",
       "      <th>3</th>\n",
       "      <td>2013-01-01</td>\n",
       "      <td>3</td>\n",
       "      <td>41</td>\n",
       "      <td>14</td>\n",
       "    </tr>\n",
       "    <tr>\n",
       "      <th>4</th>\n",
       "      <td>2013-01-01</td>\n",
       "      <td>5</td>\n",
       "      <td>24</td>\n",
       "      <td>26</td>\n",
       "    </tr>\n",
       "  </tbody>\n",
       "</table>\n",
       "</div>"
      ],
      "text/plain": [
       "        date  store  item  sales\n",
       "0 2013-01-01      7     5      5\n",
       "1 2013-01-01      4     9     19\n",
       "2 2013-01-01      1    33     37\n",
       "3 2013-01-01      3    41     14\n",
       "4 2013-01-01      5    24     26"
      ]
     },
     "execution_count": 14,
     "metadata": {},
     "output_type": "execute_result"
    }
   ],
   "source": [
    "df.head()"
   ]
  },
  {
   "attachments": {},
   "cell_type": "markdown",
   "metadata": {},
   "source": [
    "## Split data into trianing and testing "
   ]
  },
  {
   "cell_type": "code",
   "execution_count": 15,
   "metadata": {},
   "outputs": [],
   "source": [
    "train = df[df.date < '2017-01-01']\n",
    "test = df[df.date >= '2017-01-01']"
   ]
  },
  {
   "cell_type": "code",
   "execution_count": 16,
   "metadata": {},
   "outputs": [
    {
     "data": {
      "text/plain": [
       "(15213, 4)"
      ]
     },
     "execution_count": 16,
     "metadata": {},
     "output_type": "execute_result"
    }
   ],
   "source": [
    "train.shape"
   ]
  },
  {
   "cell_type": "code",
   "execution_count": 17,
   "metadata": {},
   "outputs": [
    {
     "data": {
      "text/plain": [
       "(3787, 4)"
      ]
     },
     "execution_count": 17,
     "metadata": {},
     "output_type": "execute_result"
    }
   ],
   "source": [
    "test.shape"
   ]
  },
  {
   "cell_type": "code",
   "execution_count": 18,
   "metadata": {},
   "outputs": [],
   "source": [
    "train_features = train.drop(columns=['sales'])\n",
    "train_target = train.sales\n",
    "test_features = test.drop(columns=['sales'])\n",
    "test_target = test.sales"
   ]
  },
  {
   "cell_type": "code",
   "execution_count": 19,
   "metadata": {},
   "outputs": [
    {
     "data": {
      "text/html": [
       "<div>\n",
       "<style scoped>\n",
       "    .dataframe tbody tr th:only-of-type {\n",
       "        vertical-align: middle;\n",
       "    }\n",
       "\n",
       "    .dataframe tbody tr th {\n",
       "        vertical-align: top;\n",
       "    }\n",
       "\n",
       "    .dataframe thead th {\n",
       "        text-align: right;\n",
       "    }\n",
       "</style>\n",
       "<table border=\"1\" class=\"dataframe\">\n",
       "  <thead>\n",
       "    <tr style=\"text-align: right;\">\n",
       "      <th></th>\n",
       "      <th>date</th>\n",
       "      <th>store</th>\n",
       "      <th>item</th>\n",
       "    </tr>\n",
       "  </thead>\n",
       "  <tbody>\n",
       "    <tr>\n",
       "      <th>0</th>\n",
       "      <td>2013-01-01</td>\n",
       "      <td>7</td>\n",
       "      <td>5</td>\n",
       "    </tr>\n",
       "    <tr>\n",
       "      <th>1</th>\n",
       "      <td>2013-01-01</td>\n",
       "      <td>4</td>\n",
       "      <td>9</td>\n",
       "    </tr>\n",
       "    <tr>\n",
       "      <th>2</th>\n",
       "      <td>2013-01-01</td>\n",
       "      <td>1</td>\n",
       "      <td>33</td>\n",
       "    </tr>\n",
       "    <tr>\n",
       "      <th>3</th>\n",
       "      <td>2013-01-01</td>\n",
       "      <td>3</td>\n",
       "      <td>41</td>\n",
       "    </tr>\n",
       "    <tr>\n",
       "      <th>4</th>\n",
       "      <td>2013-01-01</td>\n",
       "      <td>5</td>\n",
       "      <td>24</td>\n",
       "    </tr>\n",
       "  </tbody>\n",
       "</table>\n",
       "</div>"
      ],
      "text/plain": [
       "        date  store  item\n",
       "0 2013-01-01      7     5\n",
       "1 2013-01-01      4     9\n",
       "2 2013-01-01      1    33\n",
       "3 2013-01-01      3    41\n",
       "4 2013-01-01      5    24"
      ]
     },
     "execution_count": 19,
     "metadata": {},
     "output_type": "execute_result"
    }
   ],
   "source": [
    "train_features.head()"
   ]
  },
  {
   "cell_type": "code",
   "execution_count": 20,
   "metadata": {},
   "outputs": [
    {
     "data": {
      "text/plain": [
       "0     5\n",
       "1    19\n",
       "2    37\n",
       "3    14\n",
       "4    26\n",
       "Name: sales, dtype: int64"
      ]
     },
     "execution_count": 20,
     "metadata": {},
     "output_type": "execute_result"
    }
   ],
   "source": [
    "train_target.head()"
   ]
  },
  {
   "attachments": {},
   "cell_type": "markdown",
   "metadata": {},
   "source": [
    "## Create model"
   ]
  },
  {
   "cell_type": "code",
   "execution_count": 21,
   "metadata": {},
   "outputs": [],
   "source": [
    "from catboost import CatBoostRegressor\n",
    "from catboost.utils import eval_metric\n",
    "\n",
    "model = CatBoostRegressor(verbose=False, allow_writing_files=False, random_state=42)"
   ]
  },
  {
   "cell_type": "code",
   "execution_count": 22,
   "metadata": {},
   "outputs": [
    {
     "data": {
      "text/plain": [
       "<catboost.core.CatBoostRegressor at 0x26673707400>"
      ]
     },
     "execution_count": 22,
     "metadata": {},
     "output_type": "execute_result"
    }
   ],
   "source": [
    "model.fit(train_features, train_target)"
   ]
  },
  {
   "cell_type": "code",
   "execution_count": 23,
   "metadata": {},
   "outputs": [
    {
     "data": {
      "text/plain": [
       "[37.38282082443815]"
      ]
     },
     "execution_count": 23,
     "metadata": {},
     "output_type": "execute_result"
    }
   ],
   "source": [
    "predictions = model.predict(test_features)\n",
    "eval_metric(test_target.values, predictions, \"SMAPE\")"
   ]
  },
  {
   "attachments": {},
   "cell_type": "markdown",
   "metadata": {},
   "source": [
    "### Enriching our data"
   ]
  },
  {
   "cell_type": "code",
   "execution_count": 24,
   "metadata": {},
   "outputs": [
    {
     "name": "stdout",
     "output_type": "stream",
     "text": [
      "WARNING: You use 1.1.55 version, but latest is 1.1.68.\n"
     ]
    }
   ],
   "source": [
    "from upgini import FeaturesEnricher, SearchKey\n",
    "from upgini.metadata import CVType\n",
    "\n",
    "enricher = FeaturesEnricher(\n",
    "    search_keys={\n",
    "        'date': SearchKey.DATE\n",
    "    },\n",
    "    cv=CVType.time_series\n",
    ")"
   ]
  },
  {
   "cell_type": "code",
   "execution_count": 25,
   "metadata": {},
   "outputs": [
    {
     "name": "stdout",
     "output_type": "stream",
     "text": [
      "WARNING: You have started the search with the DATE key only. Try to add the COUNTRY and/or POSTAL_CODE and/or PHONE NUMBER and/or EMAIL/HEM and/or IP address keys to your dataset so that the search engine gets access to the additional data sources. Get details on https://github.com/upgini/upgini#readme\n",
      "Detected task type: ModelTaskType.REGRESSION\n"
     ]
    },
    {
     "name": "stderr",
     "output_type": "stream",
     "text": [
      "c:\\code\\iths\\.env\\lib\\site-packages\\upgini\\features_enricher.py:1137: FutureWarning: The behavior of `series[i:j]` with an integer-dtype index is deprecated. In a future version, this will be treated as *label-based* indexing, consistent with e.g. `series[i]` lookups. To retain the old behavior, use `series.iloc[i:j]`. To get the future behavior, use `series.loc[i:j]`.\n",
      "  self.logger.info(f\"First 10 rows of the eval_y_{idx} with shape {len(eval_y)}:\\n{eval_y[:10]}\")\n"
     ]
    },
    {
     "data": {
      "text/html": [
       "<table><tr><th style='font-weight:bold'>Column name</th><th style='font-weight:bold'>Status</th><th style='font-weight:bold'>Description</th></tr><tr><td>target</td><td style='background-color:#DAF7A6;color:black'>All valid</td><td>All values in this column are good to go</td></tr><tr><td>date</td><td style='background-color:#DAF7A6;color:black'>All valid</td><td>All values in this column are good to go</td></tr></table>"
      ],
      "text/plain": [
       "<IPython.core.display.HTML object>"
      ]
     },
     "metadata": {},
     "output_type": "display_data"
    },
    {
     "name": "stdout",
     "output_type": "stream",
     "text": [
      "Running search request with search_id=a6affd3d-f96c-4cb8-8a0e-d0179f68db0f\n",
      "We'll send email notification once it's completed, just use your personal api_key from profile.upgini.com\n",
      "Done\n",
      "\n",
      "\u001b[92m\u001b[1m\n",
      "12 relevant feature(s) found with the search keys: ['date']\u001b[0m\n"
     ]
    },
    {
     "name": "stderr",
     "output_type": "stream",
     "text": [
      "c:\\code\\iths\\.env\\lib\\site-packages\\upgini\\features_enricher.py:1476: FutureWarning: this method is deprecated in favour of `Styler.hide(axis=\"index\")`\n",
      "  display(self.features_info.head(60).style.hide_index())\n"
     ]
    },
    {
     "data": {
      "text/html": [
       "<style type=\"text/css\">\n",
       "</style>\n",
       "<table id=\"T_6c7da\">\n",
       "  <thead>\n",
       "    <tr>\n",
       "      <th id=\"T_6c7da_level0_col0\" class=\"col_heading level0 col0\" >provider</th>\n",
       "      <th id=\"T_6c7da_level0_col1\" class=\"col_heading level0 col1\" >source</th>\n",
       "      <th id=\"T_6c7da_level0_col2\" class=\"col_heading level0 col2\" >feature name</th>\n",
       "      <th id=\"T_6c7da_level0_col3\" class=\"col_heading level0 col3\" >shap value</th>\n",
       "      <th id=\"T_6c7da_level0_col4\" class=\"col_heading level0 col4\" >coverage %</th>\n",
       "      <th id=\"T_6c7da_level0_col5\" class=\"col_heading level0 col5\" >type</th>\n",
       "      <th id=\"T_6c7da_level0_col6\" class=\"col_heading level0 col6\" >feature type</th>\n",
       "    </tr>\n",
       "  </thead>\n",
       "  <tbody>\n",
       "    <tr>\n",
       "      <td id=\"T_6c7da_row0_col0\" class=\"data row0 col0\" ></td>\n",
       "      <td id=\"T_6c7da_row0_col1\" class=\"data row0 col1\" ></td>\n",
       "      <td id=\"T_6c7da_row0_col2\" class=\"data row0 col2\" >item</td>\n",
       "      <td id=\"T_6c7da_row0_col3\" class=\"data row0 col3\" >0.402879</td>\n",
       "      <td id=\"T_6c7da_row0_col4\" class=\"data row0 col4\" >100.000000</td>\n",
       "      <td id=\"T_6c7da_row0_col5\" class=\"data row0 col5\" >numerical</td>\n",
       "      <td id=\"T_6c7da_row0_col6\" class=\"data row0 col6\" ></td>\n",
       "    </tr>\n",
       "    <tr>\n",
       "      <td id=\"T_6c7da_row1_col0\" class=\"data row1 col0\" ><a href='https://upgini.com/#data_sources' target='_blank' rel='noopener noreferrer'>Upgini</a></td>\n",
       "      <td id=\"T_6c7da_row1_col1\" class=\"data row1 col1\" ><a href='https://upgini.com/#data_sources' target='_blank' rel='noopener noreferrer'>Public/Comm. shared</a></td>\n",
       "      <td id=\"T_6c7da_row1_col2\" class=\"data row1 col2\" >f_weather_date_weather_pca_0_d7e0a1fc</td>\n",
       "      <td id=\"T_6c7da_row1_col3\" class=\"data row1 col3\" >0.146411</td>\n",
       "      <td id=\"T_6c7da_row1_col4\" class=\"data row1 col4\" >100.000000</td>\n",
       "      <td id=\"T_6c7da_row1_col5\" class=\"data row1 col5\" >numerical</td>\n",
       "      <td id=\"T_6c7da_row1_col6\" class=\"data row1 col6\" >Free</td>\n",
       "    </tr>\n",
       "    <tr>\n",
       "      <td id=\"T_6c7da_row2_col0\" class=\"data row2 col0\" ></td>\n",
       "      <td id=\"T_6c7da_row2_col1\" class=\"data row2 col1\" ></td>\n",
       "      <td id=\"T_6c7da_row2_col2\" class=\"data row2 col2\" >store</td>\n",
       "      <td id=\"T_6c7da_row2_col3\" class=\"data row2 col3\" >0.096979</td>\n",
       "      <td id=\"T_6c7da_row2_col4\" class=\"data row2 col4\" >100.000000</td>\n",
       "      <td id=\"T_6c7da_row2_col5\" class=\"data row2 col5\" >numerical</td>\n",
       "      <td id=\"T_6c7da_row2_col6\" class=\"data row2 col6\" ></td>\n",
       "    </tr>\n",
       "    <tr>\n",
       "      <td id=\"T_6c7da_row3_col0\" class=\"data row3 col0\" ><a href='https://upgini.com/#data_sources' target='_blank' rel='noopener noreferrer'>Upgini</a></td>\n",
       "      <td id=\"T_6c7da_row3_col1\" class=\"data row3 col1\" ><a href='https://upgini.com/#data_sources' target='_blank' rel='noopener noreferrer'>Public/Comm. shared</a></td>\n",
       "      <td id=\"T_6c7da_row3_col2\" class=\"data row3 col2\" >f_events_date_week_sin1_847b5db1</td>\n",
       "      <td id=\"T_6c7da_row3_col3\" class=\"data row3 col3\" >0.069145</td>\n",
       "      <td id=\"T_6c7da_row3_col4\" class=\"data row3 col4\" >100.000000</td>\n",
       "      <td id=\"T_6c7da_row3_col5\" class=\"data row3 col5\" >numerical</td>\n",
       "      <td id=\"T_6c7da_row3_col6\" class=\"data row3 col6\" >Free</td>\n",
       "    </tr>\n",
       "    <tr>\n",
       "      <td id=\"T_6c7da_row4_col0\" class=\"data row4 col0\" ><a href='https://upgini.com/#data_sources' target='_blank' rel='noopener noreferrer'>Upgini</a></td>\n",
       "      <td id=\"T_6c7da_row4_col1\" class=\"data row4 col1\" ><a href='https://upgini.com/#data_sources' target='_blank' rel='noopener noreferrer'>Public/Comm. shared</a></td>\n",
       "      <td id=\"T_6c7da_row4_col2\" class=\"data row4 col2\" >f_events_date_year_cos1_9014a856</td>\n",
       "      <td id=\"T_6c7da_row4_col3\" class=\"data row4 col3\" >0.046550</td>\n",
       "      <td id=\"T_6c7da_row4_col4\" class=\"data row4 col4\" >100.000000</td>\n",
       "      <td id=\"T_6c7da_row4_col5\" class=\"data row4 col5\" >numerical</td>\n",
       "      <td id=\"T_6c7da_row4_col6\" class=\"data row4 col6\" >Free</td>\n",
       "    </tr>\n",
       "    <tr>\n",
       "      <td id=\"T_6c7da_row5_col0\" class=\"data row5 col0\" ><a href='https://upgini.com/#data_sources' target='_blank' rel='noopener noreferrer'>Upgini</a></td>\n",
       "      <td id=\"T_6c7da_row5_col1\" class=\"data row5 col1\" ><a href='https://upgini.com/#data_sources' target='_blank' rel='noopener noreferrer'>Public/Comm. shared</a></td>\n",
       "      <td id=\"T_6c7da_row5_col2\" class=\"data row5 col2\" >f_events_date_week_cos1_f6a8c1fc</td>\n",
       "      <td id=\"T_6c7da_row5_col3\" class=\"data row5 col3\" >0.019893</td>\n",
       "      <td id=\"T_6c7da_row5_col4\" class=\"data row5 col4\" >100.000000</td>\n",
       "      <td id=\"T_6c7da_row5_col5\" class=\"data row5 col5\" >numerical</td>\n",
       "      <td id=\"T_6c7da_row5_col6\" class=\"data row5 col6\" >Free</td>\n",
       "    </tr>\n",
       "    <tr>\n",
       "      <td id=\"T_6c7da_row6_col0\" class=\"data row6 col0\" ><a href='https://upgini.com/#data_sources' target='_blank' rel='noopener noreferrer'>Upgini</a></td>\n",
       "      <td id=\"T_6c7da_row6_col1\" class=\"data row6 col1\" ><a href='https://upgini.com/#data_sources' target='_blank' rel='noopener noreferrer'>Public/Comm. shared</a></td>\n",
       "      <td id=\"T_6c7da_row6_col2\" class=\"data row6 col2\" >f_weather_date_weather_umap_24_2e14c9a6</td>\n",
       "      <td id=\"T_6c7da_row6_col3\" class=\"data row6 col3\" >0.016572</td>\n",
       "      <td id=\"T_6c7da_row6_col4\" class=\"data row6 col4\" >100.000000</td>\n",
       "      <td id=\"T_6c7da_row6_col5\" class=\"data row6 col5\" >numerical</td>\n",
       "      <td id=\"T_6c7da_row6_col6\" class=\"data row6 col6\" >Free</td>\n",
       "    </tr>\n",
       "    <tr>\n",
       "      <td id=\"T_6c7da_row7_col0\" class=\"data row7 col0\" ><a href='https://upgini.com/#data_sources' target='_blank' rel='noopener noreferrer'>Upgini</a></td>\n",
       "      <td id=\"T_6c7da_row7_col1\" class=\"data row7 col1\" ><a href='https://upgini.com/#data_sources' target='_blank' rel='noopener noreferrer'>Public/Comm. shared</a></td>\n",
       "      <td id=\"T_6c7da_row7_col2\" class=\"data row7 col2\" >f_weather_date_weather_umap_33_89bb7578</td>\n",
       "      <td id=\"T_6c7da_row7_col3\" class=\"data row7 col3\" >0.015019</td>\n",
       "      <td id=\"T_6c7da_row7_col4\" class=\"data row7 col4\" >100.000000</td>\n",
       "      <td id=\"T_6c7da_row7_col5\" class=\"data row7 col5\" >numerical</td>\n",
       "      <td id=\"T_6c7da_row7_col6\" class=\"data row7 col6\" >Free</td>\n",
       "    </tr>\n",
       "    <tr>\n",
       "      <td id=\"T_6c7da_row8_col0\" class=\"data row8 col0\" ><a href='https://upgini.com/#data_sources' target='_blank' rel='noopener noreferrer'>Upgini</a></td>\n",
       "      <td id=\"T_6c7da_row8_col1\" class=\"data row8 col1\" ><a href='https://upgini.com/#data_sources' target='_blank' rel='noopener noreferrer'>Public/Comm. shared</a></td>\n",
       "      <td id=\"T_6c7da_row8_col2\" class=\"data row8 col2\" >f_financial_date_silver_14e835ea</td>\n",
       "      <td id=\"T_6c7da_row8_col3\" class=\"data row8 col3\" >0.013486</td>\n",
       "      <td id=\"T_6c7da_row8_col4\" class=\"data row8 col4\" >100.000000</td>\n",
       "      <td id=\"T_6c7da_row8_col5\" class=\"data row8 col5\" >numerical</td>\n",
       "      <td id=\"T_6c7da_row8_col6\" class=\"data row8 col6\" >Free</td>\n",
       "    </tr>\n",
       "    <tr>\n",
       "      <td id=\"T_6c7da_row9_col0\" class=\"data row9 col0\" ><a href='https://upgini.com/#data_sources' target='_blank' rel='noopener noreferrer'>Upgini</a></td>\n",
       "      <td id=\"T_6c7da_row9_col1\" class=\"data row9 col1\" ><a href='https://upgini.com/#data_sources' target='_blank' rel='noopener noreferrer'>Public/Comm. shared</a></td>\n",
       "      <td id=\"T_6c7da_row9_col2\" class=\"data row9 col2\" >f_financial_date_dow_jones_fe02128f</td>\n",
       "      <td id=\"T_6c7da_row9_col3\" class=\"data row9 col3\" >0.013376</td>\n",
       "      <td id=\"T_6c7da_row9_col4\" class=\"data row9 col4\" >100.000000</td>\n",
       "      <td id=\"T_6c7da_row9_col5\" class=\"data row9 col5\" >numerical</td>\n",
       "      <td id=\"T_6c7da_row9_col6\" class=\"data row9 col6\" >Free</td>\n",
       "    </tr>\n",
       "    <tr>\n",
       "      <td id=\"T_6c7da_row10_col0\" class=\"data row10 col0\" ><a href='https://upgini.com/#data_sources' target='_blank' rel='noopener noreferrer'>Upgini</a></td>\n",
       "      <td id=\"T_6c7da_row10_col1\" class=\"data row10 col1\" ><a href='https://upgini.com/#data_sources' target='_blank' rel='noopener noreferrer'>Public/Comm. shared</a></td>\n",
       "      <td id=\"T_6c7da_row10_col2\" class=\"data row10 col2\" >f_events_date_week_cos3_7525fe31</td>\n",
       "      <td id=\"T_6c7da_row10_col3\" class=\"data row10 col3\" >0.006765</td>\n",
       "      <td id=\"T_6c7da_row10_col4\" class=\"data row10 col4\" >100.000000</td>\n",
       "      <td id=\"T_6c7da_row10_col5\" class=\"data row10 col5\" >numerical</td>\n",
       "      <td id=\"T_6c7da_row10_col6\" class=\"data row10 col6\" >Free</td>\n",
       "    </tr>\n",
       "    <tr>\n",
       "      <td id=\"T_6c7da_row11_col0\" class=\"data row11 col0\" ><a href='https://upgini.com/#data_sources' target='_blank' rel='noopener noreferrer'>Upgini</a></td>\n",
       "      <td id=\"T_6c7da_row11_col1\" class=\"data row11 col1\" ><a href='https://upgini.com/#data_sources' target='_blank' rel='noopener noreferrer'>Public/Comm. shared</a></td>\n",
       "      <td id=\"T_6c7da_row11_col2\" class=\"data row11 col2\" >f_weather_date_weather_umap_20_90e5e123</td>\n",
       "      <td id=\"T_6c7da_row11_col3\" class=\"data row11 col3\" >0.004168</td>\n",
       "      <td id=\"T_6c7da_row11_col4\" class=\"data row11 col4\" >100.000000</td>\n",
       "      <td id=\"T_6c7da_row11_col5\" class=\"data row11 col5\" >numerical</td>\n",
       "      <td id=\"T_6c7da_row11_col6\" class=\"data row11 col6\" >Free</td>\n",
       "    </tr>\n",
       "    <tr>\n",
       "      <td id=\"T_6c7da_row12_col0\" class=\"data row12 col0\" ><a href='https://upgini.com/#data_sources' target='_blank' rel='noopener noreferrer'>Upgini</a></td>\n",
       "      <td id=\"T_6c7da_row12_col1\" class=\"data row12 col1\" ><a href='https://upgini.com/#data_sources' target='_blank' rel='noopener noreferrer'>Public/Comm. shared</a></td>\n",
       "      <td id=\"T_6c7da_row12_col2\" class=\"data row12 col2\" >f_weather_date_weather_umap_49_6c549e11</td>\n",
       "      <td id=\"T_6c7da_row12_col3\" class=\"data row12 col3\" >0.003941</td>\n",
       "      <td id=\"T_6c7da_row12_col4\" class=\"data row12 col4\" >100.000000</td>\n",
       "      <td id=\"T_6c7da_row12_col5\" class=\"data row12 col5\" >numerical</td>\n",
       "      <td id=\"T_6c7da_row12_col6\" class=\"data row12 col6\" >Free</td>\n",
       "    </tr>\n",
       "    <tr>\n",
       "      <td id=\"T_6c7da_row13_col0\" class=\"data row13 col0\" ><a href='https://upgini.com/#data_sources' target='_blank' rel='noopener noreferrer'>Upgini</a></td>\n",
       "      <td id=\"T_6c7da_row13_col1\" class=\"data row13 col1\" ><a href='https://upgini.com/#data_sources' target='_blank' rel='noopener noreferrer'>Public/Comm. shared</a></td>\n",
       "      <td id=\"T_6c7da_row13_col2\" class=\"data row13 col2\" >f_economic_date_cpi_pca_5_789d07f3</td>\n",
       "      <td id=\"T_6c7da_row13_col3\" class=\"data row13 col3\" >0.003469</td>\n",
       "      <td id=\"T_6c7da_row13_col4\" class=\"data row13 col4\" >100.000000</td>\n",
       "      <td id=\"T_6c7da_row13_col5\" class=\"data row13 col5\" >numerical</td>\n",
       "      <td id=\"T_6c7da_row13_col6\" class=\"data row13 col6\" >Free</td>\n",
       "    </tr>\n",
       "  </tbody>\n",
       "</table>\n"
      ],
      "text/plain": [
       "<pandas.io.formats.style.Styler at 0x26672c0aad0>"
      ]
     },
     "metadata": {},
     "output_type": "display_data"
    }
   ],
   "source": [
    "enricher.fit(train_features, train_target, eval_set=[(test_features, test_target)])"
   ]
  },
  {
   "cell_type": "code",
   "execution_count": 26,
   "metadata": {},
   "outputs": [
    {
     "data": {
      "text/plain": [
       "['f_weather_date_weather_pca_0_d7e0a1fc',\n",
       " 'f_events_date_week_sin1_847b5db1',\n",
       " 'f_events_date_year_cos1_9014a856',\n",
       " 'f_events_date_week_cos1_f6a8c1fc',\n",
       " 'f_weather_date_weather_umap_24_2e14c9a6',\n",
       " 'f_weather_date_weather_umap_33_89bb7578',\n",
       " 'f_financial_date_silver_14e835ea',\n",
       " 'f_financial_date_dow_jones_fe02128f',\n",
       " 'f_events_date_week_cos3_7525fe31',\n",
       " 'f_weather_date_weather_umap_20_90e5e123',\n",
       " 'f_weather_date_weather_umap_49_6c549e11',\n",
       " 'f_economic_date_cpi_pca_5_789d07f3']"
      ]
     },
     "execution_count": 26,
     "metadata": {},
     "output_type": "execute_result"
    }
   ],
   "source": [
    "enricher.feature_names_"
   ]
  },
  {
   "cell_type": "code",
   "execution_count": 27,
   "metadata": {},
   "outputs": [
    {
     "data": {
      "text/plain": [
       "[0.14641081329859218,\n",
       " 0.06914527492193365,\n",
       " 0.04654956815648062,\n",
       " 0.019892790385438543,\n",
       " 0.01657185287062552,\n",
       " 0.015019345396624601,\n",
       " 0.013485904788648176,\n",
       " 0.013376439227740278,\n",
       " 0.006764713347446169,\n",
       " 0.004168342669110124,\n",
       " 0.003941445812618263,\n",
       " 0.0034692744296017305]"
      ]
     },
     "execution_count": 27,
     "metadata": {},
     "output_type": "execute_result"
    }
   ],
   "source": [
    "enricher.feature_importances_"
   ]
  },
  {
   "cell_type": "code",
   "execution_count": 28,
   "metadata": {},
   "outputs": [
    {
     "name": "stdout",
     "output_type": "stream",
     "text": [
      "f_weather_date_weather_pca_0_d7e0a1fc\t\t0.14641081329859218\n",
      "f_events_date_week_sin1_847b5db1\t\t0.06914527492193365\n",
      "f_events_date_year_cos1_9014a856\t\t0.04654956815648062\n",
      "f_events_date_week_cos1_f6a8c1fc\t\t0.019892790385438543\n",
      "f_weather_date_weather_umap_24_2e14c9a6\t\t0.01657185287062552\n",
      "f_weather_date_weather_umap_33_89bb7578\t\t0.015019345396624601\n",
      "f_financial_date_silver_14e835ea\t\t0.013485904788648176\n",
      "f_financial_date_dow_jones_fe02128f\t\t0.013376439227740278\n",
      "f_events_date_week_cos3_7525fe31\t\t0.006764713347446169\n",
      "f_weather_date_weather_umap_20_90e5e123\t\t0.004168342669110124\n",
      "f_weather_date_weather_umap_49_6c549e11\t\t0.003941445812618263\n",
      "f_economic_date_cpi_pca_5_789d07f3\t\t0.0034692744296017305\n"
     ]
    }
   ],
   "source": [
    "for name, shap in zip(enricher.feature_names_, enricher.feature_importances_):\n",
    "    print(f'{name}\\t\\t{shap}')"
   ]
  },
  {
   "cell_type": "code",
   "execution_count": 32,
   "metadata": {},
   "outputs": [
    {
     "data": {
      "text/html": [
       "<div>\n",
       "<style scoped>\n",
       "    .dataframe tbody tr th:only-of-type {\n",
       "        vertical-align: middle;\n",
       "    }\n",
       "\n",
       "    .dataframe tbody tr th {\n",
       "        vertical-align: top;\n",
       "    }\n",
       "\n",
       "    .dataframe thead th {\n",
       "        text-align: right;\n",
       "    }\n",
       "</style>\n",
       "<table border=\"1\" class=\"dataframe\">\n",
       "  <thead>\n",
       "    <tr style=\"text-align: right;\">\n",
       "      <th></th>\n",
       "      <th>feature name</th>\n",
       "      <th>shap value</th>\n",
       "    </tr>\n",
       "  </thead>\n",
       "  <tbody>\n",
       "    <tr>\n",
       "      <th>0</th>\n",
       "      <td>item</td>\n",
       "      <td>0.402879</td>\n",
       "    </tr>\n",
       "    <tr>\n",
       "      <th>1</th>\n",
       "      <td>f_weather_date_weather_pca_0_d7e0a1fc</td>\n",
       "      <td>0.146411</td>\n",
       "    </tr>\n",
       "    <tr>\n",
       "      <th>2</th>\n",
       "      <td>store</td>\n",
       "      <td>0.096979</td>\n",
       "    </tr>\n",
       "    <tr>\n",
       "      <th>3</th>\n",
       "      <td>f_events_date_week_sin1_847b5db1</td>\n",
       "      <td>0.069145</td>\n",
       "    </tr>\n",
       "    <tr>\n",
       "      <th>4</th>\n",
       "      <td>f_events_date_year_cos1_9014a856</td>\n",
       "      <td>0.046550</td>\n",
       "    </tr>\n",
       "    <tr>\n",
       "      <th>5</th>\n",
       "      <td>f_events_date_week_cos1_f6a8c1fc</td>\n",
       "      <td>0.019893</td>\n",
       "    </tr>\n",
       "    <tr>\n",
       "      <th>6</th>\n",
       "      <td>f_weather_date_weather_umap_24_2e14c9a6</td>\n",
       "      <td>0.016572</td>\n",
       "    </tr>\n",
       "    <tr>\n",
       "      <th>7</th>\n",
       "      <td>f_weather_date_weather_umap_33_89bb7578</td>\n",
       "      <td>0.015019</td>\n",
       "    </tr>\n",
       "    <tr>\n",
       "      <th>8</th>\n",
       "      <td>f_financial_date_silver_14e835ea</td>\n",
       "      <td>0.013486</td>\n",
       "    </tr>\n",
       "    <tr>\n",
       "      <th>9</th>\n",
       "      <td>f_financial_date_dow_jones_fe02128f</td>\n",
       "      <td>0.013376</td>\n",
       "    </tr>\n",
       "    <tr>\n",
       "      <th>10</th>\n",
       "      <td>f_events_date_week_cos3_7525fe31</td>\n",
       "      <td>0.006765</td>\n",
       "    </tr>\n",
       "    <tr>\n",
       "      <th>11</th>\n",
       "      <td>f_weather_date_weather_umap_20_90e5e123</td>\n",
       "      <td>0.004168</td>\n",
       "    </tr>\n",
       "    <tr>\n",
       "      <th>12</th>\n",
       "      <td>f_weather_date_weather_umap_49_6c549e11</td>\n",
       "      <td>0.003941</td>\n",
       "    </tr>\n",
       "    <tr>\n",
       "      <th>13</th>\n",
       "      <td>f_economic_date_cpi_pca_5_789d07f3</td>\n",
       "      <td>0.003469</td>\n",
       "    </tr>\n",
       "  </tbody>\n",
       "</table>\n",
       "</div>"
      ],
      "text/plain": [
       "                               feature name  shap value\n",
       "0                                      item    0.402879\n",
       "1     f_weather_date_weather_pca_0_d7e0a1fc    0.146411\n",
       "2                                     store    0.096979\n",
       "3          f_events_date_week_sin1_847b5db1    0.069145\n",
       "4          f_events_date_year_cos1_9014a856    0.046550\n",
       "5          f_events_date_week_cos1_f6a8c1fc    0.019893\n",
       "6   f_weather_date_weather_umap_24_2e14c9a6    0.016572\n",
       "7   f_weather_date_weather_umap_33_89bb7578    0.015019\n",
       "8          f_financial_date_silver_14e835ea    0.013486\n",
       "9       f_financial_date_dow_jones_fe02128f    0.013376\n",
       "10         f_events_date_week_cos3_7525fe31    0.006765\n",
       "11  f_weather_date_weather_umap_20_90e5e123    0.004168\n",
       "12  f_weather_date_weather_umap_49_6c549e11    0.003941\n",
       "13       f_economic_date_cpi_pca_5_789d07f3    0.003469"
      ]
     },
     "execution_count": 32,
     "metadata": {},
     "output_type": "execute_result"
    }
   ],
   "source": [
    "result_df = enricher.get_features_info().drop(columns=['provider', 'source', 'coverage %', 'type', 'feature type'])\n",
    "result_df"
   ]
  },
  {
   "cell_type": "code",
   "execution_count": 33,
   "metadata": {},
   "outputs": [
    {
     "name": "stdout",
     "output_type": "stream",
     "text": [
      "Calculating metrics...\n",
      "-\r"
     ]
    },
    {
     "name": "stderr",
     "output_type": "stream",
     "text": [
      "c:\\code\\iths\\.env\\lib\\site-packages\\upgini\\features_enricher.py:1137: FutureWarning: The behavior of `series[i:j]` with an integer-dtype index is deprecated. In a future version, this will be treated as *label-based* indexing, consistent with e.g. `series[i]` lookups. To retain the old behavior, use `series.iloc[i:j]`. To get the future behavior, use `series.loc[i:j]`.\n",
      "  self.logger.info(f\"First 10 rows of the eval_y_{idx} with shape {len(eval_y)}:\\n{eval_y[:10]}\")\n"
     ]
    },
    {
     "name": "stdout",
     "output_type": "stream",
     "text": [
      "Done\n"
     ]
    },
    {
     "data": {
      "text/html": [
       "<div>\n",
       "<style scoped>\n",
       "    .dataframe tbody tr th:only-of-type {\n",
       "        vertical-align: middle;\n",
       "    }\n",
       "\n",
       "    .dataframe tbody tr th {\n",
       "        vertical-align: top;\n",
       "    }\n",
       "\n",
       "    .dataframe thead th {\n",
       "        text-align: right;\n",
       "    }\n",
       "</style>\n",
       "<table border=\"1\" class=\"dataframe\">\n",
       "  <thead>\n",
       "    <tr style=\"text-align: right;\">\n",
       "      <th></th>\n",
       "      <th>match_rate</th>\n",
       "      <th>baseline mean_absolute_percentage_error</th>\n",
       "      <th>enriched mean_absolute_percentage_error</th>\n",
       "      <th>uplift</th>\n",
       "    </tr>\n",
       "    <tr>\n",
       "      <th></th>\n",
       "      <th></th>\n",
       "      <th></th>\n",
       "      <th></th>\n",
       "      <th></th>\n",
       "    </tr>\n",
       "  </thead>\n",
       "  <tbody>\n",
       "    <tr>\n",
       "      <th>train</th>\n",
       "      <td>100.0</td>\n",
       "      <td>0.250501</td>\n",
       "      <td>0.175563</td>\n",
       "      <td>0.074937</td>\n",
       "    </tr>\n",
       "    <tr>\n",
       "      <th>eval 1</th>\n",
       "      <td>100.0</td>\n",
       "      <td>0.264574</td>\n",
       "      <td>0.189014</td>\n",
       "      <td>0.075559</td>\n",
       "    </tr>\n",
       "  </tbody>\n",
       "</table>\n",
       "</div>"
      ],
      "text/plain": [
       "        match_rate  baseline mean_absolute_percentage_error  \\\n",
       "                                                              \n",
       "train        100.0                                 0.250501   \n",
       "eval 1       100.0                                 0.264574   \n",
       "\n",
       "        enriched mean_absolute_percentage_error    uplift  \n",
       "                                                           \n",
       "train                                  0.175563  0.074937  \n",
       "eval 1                                 0.189014  0.075559  "
      ]
     },
     "execution_count": 33,
     "metadata": {},
     "output_type": "execute_result"
    }
   ],
   "source": [
    "enricher.calculate_metrics(\n",
    "    train_features, train_target, eval_set=[(test_features, test_target)],\n",
    "    estimator=model,\n",
    "    scoring='mean_absolute_percentage_error'\n",
    ")"
   ]
  },
  {
   "cell_type": "code",
   "execution_count": 34,
   "metadata": {},
   "outputs": [
    {
     "name": "stdout",
     "output_type": "stream",
     "text": [
      "WARNING: You have started the search with the DATE key only. Try to add the COUNTRY and/or POSTAL_CODE and/or PHONE NUMBER and/or EMAIL/HEM and/or IP address keys to your dataset so that the search engine gets access to the additional data sources. Get details on https://github.com/upgini/upgini#readme\n",
      "WARNING: 90.39637% of the rows are fully duplicated.\n"
     ]
    },
    {
     "data": {
      "text/html": [
       "<table><tr><th style='font-weight:bold'>Column name</th><th style='font-weight:bold'>Status</th><th style='font-weight:bold'>Description</th></tr><tr><td>date</td><td style='background-color:#DAF7A6;color:black'>All valid</td><td>All values in this column are good to go</td></tr></table>"
      ],
      "text/plain": [
       "<IPython.core.display.HTML object>"
      ]
     },
     "metadata": {},
     "output_type": "display_data"
    },
    {
     "name": "stdout",
     "output_type": "stream",
     "text": [
      "Running search request with search_id=f7bc992e-e421-4c34-9d2c-5af59bb2027a\n",
      "We'll send email notification once it's completed, just use your personal api_key from profile.upgini.com\n",
      "Done\n",
      "\n",
      "Collecting selected features...\n",
      "Done\n"
     ]
    },
    {
     "data": {
      "text/html": [
       "<div>\n",
       "<style scoped>\n",
       "    .dataframe tbody tr th:only-of-type {\n",
       "        vertical-align: middle;\n",
       "    }\n",
       "\n",
       "    .dataframe tbody tr th {\n",
       "        vertical-align: top;\n",
       "    }\n",
       "\n",
       "    .dataframe thead th {\n",
       "        text-align: right;\n",
       "    }\n",
       "</style>\n",
       "<table border=\"1\" class=\"dataframe\">\n",
       "  <thead>\n",
       "    <tr style=\"text-align: right;\">\n",
       "      <th></th>\n",
       "      <th>date</th>\n",
       "      <th>store</th>\n",
       "      <th>item</th>\n",
       "      <th>f_weather_date_weather_pca_0_d7e0a1fc</th>\n",
       "      <th>f_events_date_week_sin1_847b5db1</th>\n",
       "      <th>f_events_date_year_cos1_9014a856</th>\n",
       "      <th>f_events_date_week_cos1_f6a8c1fc</th>\n",
       "      <th>f_weather_date_weather_umap_24_2e14c9a6</th>\n",
       "      <th>f_weather_date_weather_umap_33_89bb7578</th>\n",
       "      <th>f_financial_date_silver_14e835ea</th>\n",
       "      <th>f_financial_date_dow_jones_fe02128f</th>\n",
       "      <th>f_events_date_week_cos3_7525fe31</th>\n",
       "      <th>f_weather_date_weather_umap_20_90e5e123</th>\n",
       "      <th>f_weather_date_weather_umap_49_6c549e11</th>\n",
       "      <th>f_economic_date_cpi_pca_5_789d07f3</th>\n",
       "    </tr>\n",
       "  </thead>\n",
       "  <tbody>\n",
       "    <tr>\n",
       "      <th>0</th>\n",
       "      <td>2013-01-01</td>\n",
       "      <td>7</td>\n",
       "      <td>5</td>\n",
       "      <td>29.676683</td>\n",
       "      <td>0.781831</td>\n",
       "      <td>0.98522</td>\n",
       "      <td>0.62349</td>\n",
       "      <td>5.828106</td>\n",
       "      <td>4.644803</td>\n",
       "      <td>30.173</td>\n",
       "      <td>13104.139648</td>\n",
       "      <td>-0.900969</td>\n",
       "      <td>4.339428</td>\n",
       "      <td>4.654517</td>\n",
       "      <td>-8.943169</td>\n",
       "    </tr>\n",
       "    <tr>\n",
       "      <th>1</th>\n",
       "      <td>2013-01-01</td>\n",
       "      <td>4</td>\n",
       "      <td>9</td>\n",
       "      <td>29.676683</td>\n",
       "      <td>0.781831</td>\n",
       "      <td>0.98522</td>\n",
       "      <td>0.62349</td>\n",
       "      <td>5.828106</td>\n",
       "      <td>4.644803</td>\n",
       "      <td>30.173</td>\n",
       "      <td>13104.139648</td>\n",
       "      <td>-0.900969</td>\n",
       "      <td>4.339428</td>\n",
       "      <td>4.654517</td>\n",
       "      <td>-8.943169</td>\n",
       "    </tr>\n",
       "    <tr>\n",
       "      <th>2</th>\n",
       "      <td>2013-01-01</td>\n",
       "      <td>1</td>\n",
       "      <td>33</td>\n",
       "      <td>29.676683</td>\n",
       "      <td>0.781831</td>\n",
       "      <td>0.98522</td>\n",
       "      <td>0.62349</td>\n",
       "      <td>5.828106</td>\n",
       "      <td>4.644803</td>\n",
       "      <td>30.173</td>\n",
       "      <td>13104.139648</td>\n",
       "      <td>-0.900969</td>\n",
       "      <td>4.339428</td>\n",
       "      <td>4.654517</td>\n",
       "      <td>-8.943169</td>\n",
       "    </tr>\n",
       "    <tr>\n",
       "      <th>3</th>\n",
       "      <td>2013-01-01</td>\n",
       "      <td>3</td>\n",
       "      <td>41</td>\n",
       "      <td>29.676683</td>\n",
       "      <td>0.781831</td>\n",
       "      <td>0.98522</td>\n",
       "      <td>0.62349</td>\n",
       "      <td>5.828106</td>\n",
       "      <td>4.644803</td>\n",
       "      <td>30.173</td>\n",
       "      <td>13104.139648</td>\n",
       "      <td>-0.900969</td>\n",
       "      <td>4.339428</td>\n",
       "      <td>4.654517</td>\n",
       "      <td>-8.943169</td>\n",
       "    </tr>\n",
       "    <tr>\n",
       "      <th>4</th>\n",
       "      <td>2013-01-01</td>\n",
       "      <td>5</td>\n",
       "      <td>24</td>\n",
       "      <td>29.676683</td>\n",
       "      <td>0.781831</td>\n",
       "      <td>0.98522</td>\n",
       "      <td>0.62349</td>\n",
       "      <td>5.828106</td>\n",
       "      <td>4.644803</td>\n",
       "      <td>30.173</td>\n",
       "      <td>13104.139648</td>\n",
       "      <td>-0.900969</td>\n",
       "      <td>4.339428</td>\n",
       "      <td>4.654517</td>\n",
       "      <td>-8.943169</td>\n",
       "    </tr>\n",
       "  </tbody>\n",
       "</table>\n",
       "</div>"
      ],
      "text/plain": [
       "        date  store  item  f_weather_date_weather_pca_0_d7e0a1fc  \\\n",
       "0 2013-01-01      7     5                              29.676683   \n",
       "1 2013-01-01      4     9                              29.676683   \n",
       "2 2013-01-01      1    33                              29.676683   \n",
       "3 2013-01-01      3    41                              29.676683   \n",
       "4 2013-01-01      5    24                              29.676683   \n",
       "\n",
       "   f_events_date_week_sin1_847b5db1  f_events_date_year_cos1_9014a856  \\\n",
       "0                          0.781831                           0.98522   \n",
       "1                          0.781831                           0.98522   \n",
       "2                          0.781831                           0.98522   \n",
       "3                          0.781831                           0.98522   \n",
       "4                          0.781831                           0.98522   \n",
       "\n",
       "   f_events_date_week_cos1_f6a8c1fc  f_weather_date_weather_umap_24_2e14c9a6  \\\n",
       "0                           0.62349                                 5.828106   \n",
       "1                           0.62349                                 5.828106   \n",
       "2                           0.62349                                 5.828106   \n",
       "3                           0.62349                                 5.828106   \n",
       "4                           0.62349                                 5.828106   \n",
       "\n",
       "   f_weather_date_weather_umap_33_89bb7578  f_financial_date_silver_14e835ea  \\\n",
       "0                                 4.644803                            30.173   \n",
       "1                                 4.644803                            30.173   \n",
       "2                                 4.644803                            30.173   \n",
       "3                                 4.644803                            30.173   \n",
       "4                                 4.644803                            30.173   \n",
       "\n",
       "   f_financial_date_dow_jones_fe02128f  f_events_date_week_cos3_7525fe31  \\\n",
       "0                         13104.139648                         -0.900969   \n",
       "1                         13104.139648                         -0.900969   \n",
       "2                         13104.139648                         -0.900969   \n",
       "3                         13104.139648                         -0.900969   \n",
       "4                         13104.139648                         -0.900969   \n",
       "\n",
       "   f_weather_date_weather_umap_20_90e5e123  \\\n",
       "0                                 4.339428   \n",
       "1                                 4.339428   \n",
       "2                                 4.339428   \n",
       "3                                 4.339428   \n",
       "4                                 4.339428   \n",
       "\n",
       "   f_weather_date_weather_umap_49_6c549e11  f_economic_date_cpi_pca_5_789d07f3  \n",
       "0                                 4.654517                           -8.943169  \n",
       "1                                 4.654517                           -8.943169  \n",
       "2                                 4.654517                           -8.943169  \n",
       "3                                 4.654517                           -8.943169  \n",
       "4                                 4.654517                           -8.943169  "
      ]
     },
     "execution_count": 34,
     "metadata": {},
     "output_type": "execute_result"
    }
   ],
   "source": [
    "enricher.transform(train_features, keep_input=True).head()"
   ]
  },
  {
   "cell_type": "code",
   "execution_count": 35,
   "metadata": {},
   "outputs": [
    {
     "name": "stdout",
     "output_type": "stream",
     "text": [
      "WARNING: You have started the search with the DATE key only. Try to add the COUNTRY and/or POSTAL_CODE and/or PHONE NUMBER and/or EMAIL/HEM and/or IP address keys to your dataset so that the search engine gets access to the additional data sources. Get details on https://github.com/upgini/upgini#readme\n",
      "WARNING: 90.39637% of the rows are fully duplicated.\n"
     ]
    },
    {
     "data": {
      "text/html": [
       "<table><tr><th style='font-weight:bold'>Column name</th><th style='font-weight:bold'>Status</th><th style='font-weight:bold'>Description</th></tr><tr><td>date</td><td style='background-color:#DAF7A6;color:black'>All valid</td><td>All values in this column are good to go</td></tr></table>"
      ],
      "text/plain": [
       "<IPython.core.display.HTML object>"
      ]
     },
     "metadata": {},
     "output_type": "display_data"
    },
    {
     "name": "stdout",
     "output_type": "stream",
     "text": [
      "Running search request with search_id=f3fed247-3350-4b53-817a-07bab31bb1bc\n",
      "We'll send email notification once it's completed, just use your personal api_key from profile.upgini.com\n",
      "Done\n",
      "\n",
      "Collecting selected features...\n",
      "Done\n",
      "WARNING: You have started the search with the DATE key only. Try to add the COUNTRY and/or POSTAL_CODE and/or PHONE NUMBER and/or EMAIL/HEM and/or IP address keys to your dataset so that the search engine gets access to the additional data sources. Get details on https://github.com/upgini/upgini#readme\n",
      "WARNING: 90.36176% of the rows are fully duplicated.\n"
     ]
    },
    {
     "data": {
      "text/html": [
       "<table><tr><th style='font-weight:bold'>Column name</th><th style='font-weight:bold'>Status</th><th style='font-weight:bold'>Description</th></tr><tr><td>date</td><td style='background-color:#DAF7A6;color:black'>All valid</td><td>All values in this column are good to go</td></tr></table>"
      ],
      "text/plain": [
       "<IPython.core.display.HTML object>"
      ]
     },
     "metadata": {},
     "output_type": "display_data"
    },
    {
     "name": "stdout",
     "output_type": "stream",
     "text": [
      "Running search request with search_id=cfc4b976-bf85-41d8-a9db-4e14875d5a1e\n",
      "We'll send email notification once it's completed, just use your personal api_key from profile.upgini.com\n",
      "Done\n",
      "\n",
      "Collecting selected features...\n",
      "Done\n"
     ]
    }
   ],
   "source": [
    "enriched_train_features = enricher.transform(train_features, keep_input=True)\n",
    "enriched_test_features = enricher.transform(test_features, keep_input=True)"
   ]
  },
  {
   "attachments": {},
   "cell_type": "markdown",
   "metadata": {},
   "source": [
    "### Predicting with our enriched data"
   ]
  },
  {
   "cell_type": "code",
   "execution_count": 36,
   "metadata": {},
   "outputs": [
    {
     "data": {
      "text/plain": [
       "[14.174379469429864]"
      ]
     },
     "execution_count": 36,
     "metadata": {},
     "output_type": "execute_result"
    }
   ],
   "source": [
    "model.fit(enriched_train_features, train_target)\n",
    "predictions = model.predict(enriched_test_features)\n",
    "eval_metric(test_target.values, predictions, 'SMAPE')"
   ]
  },
  {
   "attachments": {},
   "cell_type": "markdown",
   "metadata": {},
   "source": [
    "Before\n",
    "37.38282082443815\n",
    "After\n",
    "14.174379469429864"
   ]
  }
 ],
 "metadata": {
  "kernelspec": {
   "display_name": ".env",
   "language": "python",
   "name": "python3"
  },
  "language_info": {
   "codemirror_mode": {
    "name": "ipython",
    "version": 3
   },
   "file_extension": ".py",
   "mimetype": "text/x-python",
   "name": "python",
   "nbconvert_exporter": "python",
   "pygments_lexer": "ipython3",
   "version": "3.10.7"
  },
  "orig_nbformat": 4,
  "vscode": {
   "interpreter": {
    "hash": "8bc9e4ca761b3c59d89c107e186922c6a609b16a19a8ead675ec70cca98a1a19"
   }
  }
 },
 "nbformat": 4,
 "nbformat_minor": 2
}
